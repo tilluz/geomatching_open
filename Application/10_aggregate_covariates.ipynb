{
 "cells": [
  {
   "cell_type": "markdown",
   "metadata": {},
   "source": [
    "# Modelling with-in cell heterogeneity with satellite imagery"
   ]
  },
  {
   "cell_type": "markdown",
   "metadata": {},
   "source": [
    "#### Modules"
   ]
  },
  {
   "cell_type": "code",
   "execution_count": null,
   "metadata": {},
   "outputs": [],
   "source": [
    "import pandas as pd  # for handling dataframes\n",
    "import geopandas as gpd  # for handling geospatial dataframes\n",
    "from geopandas import GeoDataFrame\n",
    "from shapely.geometry import Point, Polygon\n",
    "import matplotlib.pyplot as plt  # for saving plots\n",
    "import rasterio\n",
    "import rasterio.mask\n",
    "from rasterio.windows import Window\n",
    "import folium\n",
    "import math\n",
    "import numpy as np\n",
    "import itertools\n",
    "import gdal\n",
    "import multiprocessing as mp\n",
    "from rasterstats import point_query\n",
    "import time\n",
    "import shapely\n",
    "import scipy.spatial as spatial\n",
    "from geovoronoi import voronoi_regions_from_coords\n",
    "from tqdm import tqdm\n",
    "import gc\n",
    "from math import radians, cos, sin, asin, sqrt\n",
    "import weightedstats as ws\n",
    "import robustats as rs"
   ]
  },
  {
   "cell_type": "markdown",
   "metadata": {},
   "source": [
    "#### Paths & Files"
   ]
  },
  {
   "cell_type": "code",
   "execution_count": null,
   "metadata": {},
   "outputs": [],
   "source": [
    "path_data = './midsave/'\n",
    "file_antenna = './input/SITE_ARR_LONLAT_EXACT.csv'\n",
    "file_commune_map = path_data+'shape_com.shp'\n",
    "file_guf = './input/senegal.tif'\n",
    "file_wpg = './input/sen_ppp_2013.tif'\n",
    "file_cdr = path_data+'NUTS5_tower.csv'\n",
    "file_bandicoot = path_data+'bandicoot_tower.csv'\n",
    "file_map_pixel = path_data+'map_pixel.shp'\n",
    "file_map_grid = path_data+'map_grid.shp'\n",
    "file_map_pixel_knn = path_data+'w_knn.csv'\n",
    "file_map_grid_knn = path_data+'w_grid.csv'\n",
    "file_map_pixel_adm = path_data+'w_knn_adm.csv'\n",
    "file_map_grid_adm = path_data+'w_grid_adm.csv'\n",
    "file_map_voronoi = path_data+'map_voronoi.csv'\n",
    "file_xwalk_points = path_data+'xwalk_points.csv'"
   ]
  },
  {
   "cell_type": "markdown",
   "metadata": {},
   "source": [
    "#### Notebook options"
   ]
  },
  {
   "cell_type": "code",
   "execution_count": null,
   "metadata": {},
   "outputs": [],
   "source": [
    "%reload_ext autoreload\n",
    "%autoreload 2\n",
    "%matplotlib inline"
   ]
  },
  {
   "cell_type": "markdown",
   "metadata": {},
   "source": [
    "## Data"
   ]
  },
  {
   "cell_type": "markdown",
   "metadata": {},
   "source": [
    "#### Map"
   ]
  },
  {
   "cell_type": "code",
   "execution_count": null,
   "metadata": {},
   "outputs": [],
   "source": [
    "map_commune = gpd.read_file(file_commune_map).rename(columns={\"SP_ID\": \"MAP_ID\", \"Shape_Area\": \"SUPERFICIE\", 'CCOD_CRCA' : 'COD_ENTITE'})\n",
    "map_commune.crs = map_commune.to_crs({'init': 'epsg:4326'})\n",
    "map_commune.loc[(map_commune.COD_ENTITE == '02120201') & (map_commune.COD_CRCA == '05'), 'COD_ENTITE'] = '02120205'\n",
    "map_commune.loc[(map_commune.COD_ENTITE == '02220101') & (map_commune.CCOD_CAV == '022202'), 'COD_ENTITE'] = '02220201'"
   ]
  },
  {
   "cell_type": "code",
   "execution_count": null,
   "metadata": {},
   "outputs": [],
   "source": [
    "map_commune['MAP_ID'] = map_commune.MAP_ID.astype('uint16')"
   ]
  },
  {
   "cell_type": "markdown",
   "metadata": {},
   "source": [
    "# Aggregate Mobile Phone Data to commune-level"
   ]
  },
  {
   "cell_type": "markdown",
   "metadata": {},
   "source": [
    "Load Bandicoots"
   ]
  },
  {
   "cell_type": "code",
   "execution_count": null,
   "metadata": {},
   "outputs": [],
   "source": [
    "bandicoot_raw = pd.read_csv(file_bandicoot).rename(columns={\"tower\": \"site_id\"})\n",
    "cdr_raw = pd.read_csv(file_cdr).rename(columns={\"tower\": \"site_id\"})"
   ]
  },
  {
   "cell_type": "code",
   "execution_count": null,
   "metadata": {},
   "outputs": [],
   "source": [
    "sum_columns = ['site_id', 'calls_ratio', 'sms_ratio', 'vol_ratio']"
   ]
  },
  {
   "cell_type": "code",
   "execution_count": null,
   "metadata": {},
   "outputs": [],
   "source": [
    "cdr_mean = cdr_raw[sum_columns].merge(bandicoot_raw, on = 'site_id', how = 'left')"
   ]
  },
  {
   "cell_type": "code",
   "execution_count": null,
   "metadata": {},
   "outputs": [],
   "source": [
    "cdr_mean.head(3)"
   ]
  },
  {
   "cell_type": "code",
   "execution_count": null,
   "metadata": {},
   "outputs": [],
   "source": [
    "cdr_median = cdr_raw.drop(columns = sum_columns[1:])"
   ]
  },
  {
   "cell_type": "code",
   "execution_count": null,
   "metadata": {},
   "outputs": [],
   "source": [
    "cdr_median.head(3)"
   ]
  },
  {
   "cell_type": "markdown",
   "metadata": {},
   "source": [
    "# Point to Polygon"
   ]
  },
  {
   "cell_type": "code",
   "execution_count": null,
   "metadata": {},
   "outputs": [],
   "source": [
    "sim_point_sum = xwalk_points = pd.read_csv(file_xwalk_points)"
   ]
  },
  {
   "cell_type": "markdown",
   "metadata": {},
   "source": [
    "Take the mean of some features (as done in the paper)"
   ]
  },
  {
   "cell_type": "code",
   "execution_count": null,
   "metadata": {},
   "outputs": [],
   "source": [
    "sim_point_mean = sim_point_sum.merge(cdr_mean, on = 'site_id', how = 'left')\n",
    "sim_point_mean_adm = sim_point_mean.groupby('MAP_ID').mean().reset_index().drop(columns = ['site_id'])"
   ]
  },
  {
   "cell_type": "markdown",
   "metadata": {},
   "source": [
    "Take the median of the other features (as done in the paper)"
   ]
  },
  {
   "cell_type": "code",
   "execution_count": null,
   "metadata": {},
   "outputs": [],
   "source": [
    "sim_point_median = sim_point_sum.merge(cdr_median, on = 'site_id', how = 'left')\n",
    "sim_point_median_adm = sim_point_median.groupby('MAP_ID').median().reset_index().drop(columns = ['site_id'])"
   ]
  },
  {
   "cell_type": "markdown",
   "metadata": {},
   "source": [
    "Merge to one df"
   ]
  },
  {
   "cell_type": "code",
   "execution_count": null,
   "metadata": {},
   "outputs": [],
   "source": [
    "sim_point_adm = sim_point_mean_adm.merge(sim_point_median_adm, on = 'MAP_ID', how = 'left')"
   ]
  },
  {
   "cell_type": "markdown",
   "metadata": {},
   "source": [
    "Save it"
   ]
  },
  {
   "cell_type": "code",
   "execution_count": null,
   "metadata": {},
   "outputs": [],
   "source": [
    "sim_point_adm.to_csv('./midsave/sim_point_adm.csv', index = False)"
   ]
  },
  {
   "cell_type": "markdown",
   "metadata": {},
   "source": [
    "# Voronoi (currently we do not assume site-level 'activity' weights)"
   ]
  },
  {
   "cell_type": "markdown",
   "metadata": {},
   "source": [
    "Load required pre-computed datasets"
   ]
  },
  {
   "cell_type": "code",
   "execution_count": null,
   "metadata": {},
   "outputs": [],
   "source": [
    "map_intersection_voronoi = pd.read_csv(file_map_voronoi).astype(\n",
    "        {'intersection_id': 'uint16', 'site_id' : 'uint16', 'MAP_ID': 'uint16', 'w_geo_adm': 'float64', 'w_geo_ant': 'float64', 'w_guf_adm': 'float64', 'w_guf_ant': 'float64'})"
   ]
  },
  {
   "cell_type": "markdown",
   "metadata": {},
   "source": [
    "Mean"
   ]
  },
  {
   "cell_type": "code",
   "execution_count": null,
   "metadata": {},
   "outputs": [],
   "source": [
    "sim_voronoi_mean = map_intersection_voronoi[['intersection_id', 'site_id', 'MAP_ID', 'w_geo_ant']].merge(cdr_mean, on = 'site_id', how = 'left').dropna()\n",
    "sim_voronoi_mean_adm = sim_voronoi_mean.groupby('MAP_ID').agg(lambda x: np.average(x, weights=sim_voronoi_mean.loc[x.index, \"w_geo_ant\"])).reset_index().drop(columns = ['intersection_id', 'site_id', 'w_geo_ant'])"
   ]
  },
  {
   "cell_type": "markdown",
   "metadata": {},
   "source": [
    "Median"
   ]
  },
  {
   "cell_type": "code",
   "execution_count": null,
   "metadata": {},
   "outputs": [],
   "source": [
    "sim_voronoi_median = map_intersection_voronoi[['intersection_id', 'site_id', 'MAP_ID', 'w_geo_ant']].merge(cdr_median, on = 'site_id', how = 'left').dropna()\n",
    "sim_voronoi_median_adm = sim_voronoi_median.groupby('MAP_ID').agg(lambda x: rs.weighted_median(x, weights=sim_voronoi_median.loc[x.index, \"w_geo_ant\"])).reset_index().drop(columns = ['intersection_id', 'site_id', 'w_geo_ant'])"
   ]
  },
  {
   "cell_type": "markdown",
   "metadata": {},
   "source": [
    "Merge"
   ]
  },
  {
   "cell_type": "code",
   "execution_count": null,
   "metadata": {},
   "outputs": [],
   "source": [
    "sim_voronoi_adm = sim_voronoi_mean_adm.merge(sim_voronoi_median_adm, on = 'MAP_ID', how = 'left')"
   ]
  },
  {
   "cell_type": "markdown",
   "metadata": {},
   "source": [
    "Save it"
   ]
  },
  {
   "cell_type": "code",
   "execution_count": null,
   "metadata": {},
   "outputs": [],
   "source": [
    "sim_voronoi_adm.to_csv('./midsave/sim_voronoi_adm.csv', index = False)"
   ]
  },
  {
   "cell_type": "markdown",
   "metadata": {},
   "source": [
    "# Augmented Voronoi (GUF)"
   ]
  },
  {
   "cell_type": "markdown",
   "metadata": {},
   "source": [
    "Mean"
   ]
  },
  {
   "cell_type": "code",
   "execution_count": null,
   "metadata": {},
   "outputs": [],
   "source": [
    "sim_augvoronoi_mean = map_intersection_voronoi[['site_id', 'MAP_ID', 'w_guf_ant']].merge(cdr_mean, on = 'site_id', how = 'left').drop(\n",
    "    columns = {'site_id'}).dropna()"
   ]
  },
  {
   "cell_type": "markdown",
   "metadata": {},
   "source": [
    "Filter out those communes without any settlement"
   ]
  },
  {
   "cell_type": "code",
   "execution_count": null,
   "metadata": {},
   "outputs": [],
   "source": [
    "zero_weight = sim_augvoronoi_mean.groupby('MAP_ID')['w_guf_ant'].sum().reset_index()"
   ]
  },
  {
   "cell_type": "code",
   "execution_count": null,
   "metadata": {},
   "outputs": [],
   "source": [
    "sim_augvoronoi_mean = sim_augvoronoi_mean[~sim_augvoronoi_mean.MAP_ID.isin(zero_weight[zero_weight.w_guf_ant == 0].MAP_ID)]"
   ]
  },
  {
   "cell_type": "code",
   "execution_count": null,
   "metadata": {},
   "outputs": [],
   "source": [
    "sim_augvoronoi_mean_adm = sim_augvoronoi_mean.dropna().groupby('MAP_ID').agg(\n",
    "        lambda x: np.average(x, weights=sim_augvoronoi_mean.loc[x.index, \"w_guf_ant\"])).reset_index().drop(columns = ['w_guf_ant'])"
   ]
  },
  {
   "cell_type": "markdown",
   "metadata": {},
   "source": [
    "Median"
   ]
  },
  {
   "cell_type": "code",
   "execution_count": null,
   "metadata": {},
   "outputs": [],
   "source": [
    "sim_augvoronoi_median = map_intersection_voronoi[['intersection_id', 'site_id', 'MAP_ID', 'w_guf_ant']].merge(cdr_median, on = 'site_id', how = 'left').dropna()\n",
    "sim_augvoronoi_median_adm = sim_augvoronoi_median.groupby('MAP_ID').agg(lambda x: rs.weighted_median(x, weights=sim_augvoronoi_median.loc[x.index, \"w_guf_ant\"])).reset_index().drop(columns = ['intersection_id', 'site_id', 'w_guf_ant'])"
   ]
  },
  {
   "cell_type": "markdown",
   "metadata": {},
   "source": [
    "Merge"
   ]
  },
  {
   "cell_type": "code",
   "execution_count": null,
   "metadata": {},
   "outputs": [],
   "source": [
    "sim_augvoronoi_adm = sim_augvoronoi_mean_adm.merge(sim_augvoronoi_median_adm, on = 'MAP_ID', how = 'left')"
   ]
  },
  {
   "cell_type": "markdown",
   "metadata": {},
   "source": [
    "Double-checked. Due to bad home allocation."
   ]
  },
  {
   "cell_type": "markdown",
   "metadata": {},
   "source": [
    "Save it"
   ]
  },
  {
   "cell_type": "code",
   "execution_count": null,
   "metadata": {},
   "outputs": [],
   "source": [
    "sim_augvoronoi_adm.to_csv('./midsave/sim_augvoronoi_adm.csv', index = False)"
   ]
  },
  {
   "cell_type": "markdown",
   "metadata": {},
   "source": [
    "# Augmented Voronoi (WPG)"
   ]
  },
  {
   "cell_type": "markdown",
   "metadata": {},
   "source": [
    "Mean"
   ]
  },
  {
   "cell_type": "code",
   "execution_count": null,
   "metadata": {},
   "outputs": [],
   "source": [
    "sim_wpgvoronoi_mean = map_intersection_voronoi[['site_id', 'MAP_ID', 'w_wpg_ant']].merge(cdr_mean, on = 'site_id', how = 'left').drop(\n",
    "    columns = {'site_id'}).dropna()"
   ]
  },
  {
   "cell_type": "markdown",
   "metadata": {},
   "source": [
    "Filter out those communes without any settlement"
   ]
  },
  {
   "cell_type": "code",
   "execution_count": null,
   "metadata": {},
   "outputs": [],
   "source": [
    "zero_weight = sim_wpgvoronoi_mean.groupby('MAP_ID')['w_wpg_ant'].sum().reset_index()"
   ]
  },
  {
   "cell_type": "code",
   "execution_count": null,
   "metadata": {},
   "outputs": [],
   "source": [
    "sim_wpgvoronoi_mean = sim_wpgvoronoi_mean[~sim_wpgvoronoi_mean.MAP_ID.isin(zero_weight[zero_weight.w_wpg_ant == 0].MAP_ID)]"
   ]
  },
  {
   "cell_type": "code",
   "execution_count": null,
   "metadata": {},
   "outputs": [],
   "source": [
    "sim_wpgvoronoi_mean_adm = sim_wpgvoronoi_mean.dropna().groupby('MAP_ID').agg(\n",
    "        lambda x: np.average(x, weights=sim_wpgvoronoi_mean.loc[x.index, \"w_wpg_ant\"])).reset_index().drop(columns = ['w_wpg_ant'])"
   ]
  },
  {
   "cell_type": "markdown",
   "metadata": {},
   "source": [
    "Median"
   ]
  },
  {
   "cell_type": "code",
   "execution_count": null,
   "metadata": {},
   "outputs": [],
   "source": [
    "sim_wpgvoronoi_median = map_intersection_voronoi[['intersection_id', 'site_id', 'MAP_ID', 'w_wpg_ant']].merge(cdr_median, on = 'site_id', how = 'left').dropna()\n",
    "sim_wpgvoronoi_median_adm = sim_wpgvoronoi_median.groupby('MAP_ID').agg(lambda x: rs.weighted_median(x, weights=sim_wpgvoronoi_median.loc[x.index, \"w_wpg_ant\"])).reset_index().drop(columns = ['intersection_id', 'site_id', 'w_wpg_ant'])"
   ]
  },
  {
   "cell_type": "markdown",
   "metadata": {},
   "source": [
    "Merge"
   ]
  },
  {
   "cell_type": "code",
   "execution_count": null,
   "metadata": {},
   "outputs": [],
   "source": [
    "sim_wpgvoronoi_adm = sim_wpgvoronoi_mean_adm.merge(sim_wpgvoronoi_median_adm, on = 'MAP_ID', how = 'left')"
   ]
  },
  {
   "cell_type": "markdown",
   "metadata": {},
   "source": [
    "Save it"
   ]
  },
  {
   "cell_type": "code",
   "execution_count": null,
   "metadata": {},
   "outputs": [],
   "source": [
    "sim_wpgvoronoi_adm.to_csv('./midsave/sim_wpgvoronoi_adm.csv', index = False)"
   ]
  },
  {
   "cell_type": "markdown",
   "metadata": {},
   "source": [
    "Remove to create memory space"
   ]
  },
  {
   "cell_type": "code",
   "execution_count": null,
   "metadata": {},
   "outputs": [],
   "source": [
    "map_intersection_voronoi = None"
   ]
  },
  {
   "cell_type": "markdown",
   "metadata": {},
   "source": [
    "# GUF Overlap"
   ]
  },
  {
   "cell_type": "code",
   "execution_count": null,
   "metadata": {},
   "outputs": [],
   "source": [
    "map_pixel_knn = pd.read_csv(file_map_pixel_knn).astype(\n",
    "        {'pixel_id': 'uint32', 'site_id' : 'uint16', 'path_loss': 'float64', 'w_best_site': 'float64', 'w_knn_site': 'float64'})"
   ]
  },
  {
   "cell_type": "code",
   "execution_count": null,
   "metadata": {},
   "outputs": [],
   "source": [
    "map_pixel_adm = pd.read_csv(file_map_pixel_adm)"
   ]
  },
  {
   "cell_type": "code",
   "execution_count": null,
   "metadata": {},
   "outputs": [],
   "source": [
    "len(map_pixel_adm.MAP_ID.unique()) # Thietty /Tiety / 257 in Kolda has apparently no settlements"
   ]
  },
  {
   "cell_type": "markdown",
   "metadata": {},
   "source": [
    "Here, should I incorporate population per pixel to account for varying housing structures (e.g. varying inhabitants per m²)"
   ]
  },
  {
   "cell_type": "code",
   "execution_count": null,
   "metadata": {},
   "outputs": [],
   "source": [
    "sim_overlap_sum = map_pixel_knn[['site_id', 'pixel_id', 'w_best_site', 'w_knn_site', 'w_uni_site']].merge(\n",
    "    map_pixel_adm[['pixel_id', 'MAP_ID']], on = 'pixel_id', how = 'left')"
   ]
  },
  {
   "cell_type": "code",
   "execution_count": null,
   "metadata": {},
   "outputs": [],
   "source": [
    "map_pixel_knn = None\n",
    "map_pixel_adm = None"
   ]
  },
  {
   "cell_type": "markdown",
   "metadata": {},
   "source": [
    "### BSA"
   ]
  },
  {
   "cell_type": "markdown",
   "metadata": {},
   "source": [
    "Mean"
   ]
  },
  {
   "cell_type": "code",
   "execution_count": null,
   "metadata": {},
   "outputs": [],
   "source": [
    "sim_overlap_mean_best_adm = pd.DataFrame()"
   ]
  },
  {
   "cell_type": "code",
   "execution_count": null,
   "metadata": {},
   "outputs": [],
   "source": [
    "for i in tqdm(sim_overlap_sum.MAP_ID.unique()):\n",
    "    \n",
    "    sim_overlap_mean = sim_overlap_sum.loc[sim_overlap_sum.MAP_ID == i, ['site_id', 'MAP_ID', 'w_best_site']].merge(cdr_mean, on = 'site_id', how = 'left').drop(\n",
    "        columns = {'site_id'}).dropna()\n",
    "    \n",
    "    if sim_overlap_mean.w_best_site.sum() == 0:\n",
    "        continue\n",
    "        \n",
    "    else:\n",
    "        df = sim_overlap_mean.groupby('MAP_ID').agg(\n",
    "            lambda x: np.average(x, weights=sim_overlap_mean.loc[x.index, \"w_best_site\"])).reset_index().drop(columns = ['w_best_site'])\n",
    "        \n",
    "        sim_overlap_mean_best_adm = sim_overlap_mean_best_adm.append(df)"
   ]
  },
  {
   "cell_type": "code",
   "execution_count": null,
   "metadata": {},
   "outputs": [],
   "source": [
    "sim_overlap_mean.w_best_site.sum()"
   ]
  },
  {
   "cell_type": "markdown",
   "metadata": {},
   "source": [
    "Median"
   ]
  },
  {
   "cell_type": "code",
   "execution_count": null,
   "metadata": {},
   "outputs": [],
   "source": [
    "sim_overlap_median_best_adm = pd.DataFrame()"
   ]
  },
  {
   "cell_type": "code",
   "execution_count": null,
   "metadata": {},
   "outputs": [],
   "source": [
    "for i in tqdm(sim_overlap_sum.MAP_ID.unique()):\n",
    "    \n",
    "    sim_overlap_median = sim_overlap_sum.loc[sim_overlap_sum.MAP_ID == i, ['site_id', 'MAP_ID', 'w_best_site']].merge(cdr_median, on = 'site_id', how = 'left').drop(\n",
    "        columns = {'site_id'}).dropna()\n",
    "    \n",
    "    if sim_overlap_median.w_best_site.sum() == 0:\n",
    "        continue\n",
    "        \n",
    "    else:\n",
    "        df = sim_overlap_median.groupby('MAP_ID').agg(\n",
    "            lambda x: ws.numpy_weighted_median(x, weights=sim_overlap_median.loc[x.index, \"w_best_site\"])).reset_index().drop(columns = ['w_best_site'])\n",
    "        \n",
    "        sim_overlap_median_best_adm = sim_overlap_median_best_adm.append(df)"
   ]
  },
  {
   "cell_type": "markdown",
   "metadata": {},
   "source": [
    "Bring together"
   ]
  },
  {
   "cell_type": "code",
   "execution_count": null,
   "metadata": {},
   "outputs": [],
   "source": [
    "sim_overlap_best_adm = sim_overlap_mean_best_adm.merge(sim_overlap_median_best_adm, on = 'MAP_ID', how = 'left')"
   ]
  },
  {
   "cell_type": "markdown",
   "metadata": {},
   "source": [
    "Save it"
   ]
  },
  {
   "cell_type": "code",
   "execution_count": null,
   "metadata": {},
   "outputs": [],
   "source": [
    "sim_overlap_best_adm.to_csv('./midsave/sim_overlap_best_adm.csv', index = False)"
   ]
  },
  {
   "cell_type": "markdown",
   "metadata": {},
   "source": [
    "The differences in counts arise, since some antennas are neither best serving antenna (case for 26 antennas in best server approach) for any settlement nor do they provide RSS values above -110dBm for any settlement (case for 3 antennas in uniform and inverse approach). However, for each of these antennas, home-located SIM cards are registered, which are consequently dropped, hence the mismatch. Main reasons for this mismatch can be threefold: 1) The settlement information extracted from satellite imagery are incomplete, some settlements are left out. 2) The home location algorithm is inaccurate and home-locates to antennas where no settlements are located. 3) Antenna specifications are wrong, i.e. coverage areas / RSS values are over- and underestimated at some locations."
   ]
  },
  {
   "cell_type": "markdown",
   "metadata": {},
   "source": [
    "### IDW"
   ]
  },
  {
   "cell_type": "markdown",
   "metadata": {},
   "source": [
    "Mean"
   ]
  },
  {
   "cell_type": "code",
   "execution_count": null,
   "metadata": {},
   "outputs": [],
   "source": [
    "sim_overlap_mean_knn_adm = pd.DataFrame()"
   ]
  },
  {
   "cell_type": "code",
   "execution_count": null,
   "metadata": {},
   "outputs": [],
   "source": [
    "for i in tqdm(sim_overlap_sum.MAP_ID.unique()):\n",
    "    \n",
    "    sim_overlap_mean = sim_overlap_sum.loc[sim_overlap_sum.MAP_ID == i, ['site_id', 'MAP_ID', 'w_knn_site']].merge(cdr_mean, on = 'site_id', how = 'left').drop(\n",
    "        columns = {'site_id'}).dropna()\n",
    "    \n",
    "    if sim_overlap_mean.w_knn_site.sum() == 0:\n",
    "        continue\n",
    "        \n",
    "    else:\n",
    "        df = sim_overlap_mean.groupby('MAP_ID').agg(\n",
    "            lambda x: np.average(x, weights=sim_overlap_mean.loc[x.index, \"w_knn_site\"])).reset_index().drop(columns = ['w_knn_site'])\n",
    "        \n",
    "        sim_overlap_mean_knn_adm = sim_overlap_mean_knn_adm.append(df)"
   ]
  },
  {
   "cell_type": "code",
   "execution_count": null,
   "metadata": {},
   "outputs": [],
   "source": [
    "sim_overlap_mean.head(11)"
   ]
  },
  {
   "cell_type": "markdown",
   "metadata": {},
   "source": [
    "Median"
   ]
  },
  {
   "cell_type": "code",
   "execution_count": null,
   "metadata": {},
   "outputs": [],
   "source": [
    "sim_overlap_median_knn_adm = pd.DataFrame()"
   ]
  },
  {
   "cell_type": "code",
   "execution_count": null,
   "metadata": {},
   "outputs": [],
   "source": [
    "for i in tqdm(sim_overlap_sum.MAP_ID.unique()):\n",
    "    \n",
    "    sim_overlap_median = sim_overlap_sum.loc[sim_overlap_sum.MAP_ID == i, ['site_id', 'MAP_ID', 'w_knn_site']].merge(cdr_median, on = 'site_id', how = 'left').drop(\n",
    "        columns = {'site_id'}).dropna()\n",
    "    \n",
    "    if sim_overlap_median.w_knn_site.sum() == 0:\n",
    "        continue\n",
    "        \n",
    "    else:\n",
    "        df = sim_overlap_median.groupby('MAP_ID').agg(\n",
    "            lambda x: ws.numpy_weighted_median(x, weights=sim_overlap_median.loc[x.index, \"w_knn_site\"])).reset_index().drop(columns = ['w_knn_site'])\n",
    "        \n",
    "        sim_overlap_median_knn_adm = sim_overlap_median_knn_adm.append(df)"
   ]
  },
  {
   "cell_type": "markdown",
   "metadata": {},
   "source": [
    "Bring together"
   ]
  },
  {
   "cell_type": "code",
   "execution_count": null,
   "metadata": {},
   "outputs": [],
   "source": [
    "sim_overlap_knn_adm = sim_overlap_mean_knn_adm.merge(sim_overlap_median_knn_adm, on = 'MAP_ID', how = 'left')"
   ]
  },
  {
   "cell_type": "markdown",
   "metadata": {},
   "source": [
    "Save it"
   ]
  },
  {
   "cell_type": "code",
   "execution_count": null,
   "metadata": {},
   "outputs": [],
   "source": [
    "sim_overlap_knn_adm.to_csv('./midsave/sim_overlap_knn_adm.csv', index = False)"
   ]
  },
  {
   "cell_type": "markdown",
   "metadata": {},
   "source": [
    "# WPG Overlap"
   ]
  },
  {
   "cell_type": "code",
   "execution_count": null,
   "metadata": {},
   "outputs": [],
   "source": [
    "map_grid_knn = pd.read_csv(file_map_grid_knn).astype(\n",
    "        {'grid_id': 'uint32', 'site_id' : 'uint16', 'path_loss': 'float64', 'w_best_site': 'float64', 'w_knn_site': 'float64'})"
   ]
  },
  {
   "cell_type": "code",
   "execution_count": null,
   "metadata": {},
   "outputs": [],
   "source": [
    "map_grid_adm = pd.read_csv(file_map_grid_adm)"
   ]
  },
  {
   "cell_type": "code",
   "execution_count": null,
   "metadata": {},
   "outputs": [],
   "source": [
    "len(map_grid_adm.MAP_ID.unique())"
   ]
  },
  {
   "cell_type": "code",
   "execution_count": null,
   "metadata": {},
   "outputs": [],
   "source": [
    "map_grid_knn = None\n",
    "map_grid_adm = None"
   ]
  },
  {
   "cell_type": "markdown",
   "metadata": {},
   "source": [
    "### BSA"
   ]
  },
  {
   "cell_type": "markdown",
   "metadata": {},
   "source": [
    "Mean"
   ]
  },
  {
   "cell_type": "code",
   "execution_count": null,
   "metadata": {},
   "outputs": [],
   "source": [
    "sim_wpg_overlap_mean_best_adm = pd.DataFrame()"
   ]
  },
  {
   "cell_type": "code",
   "execution_count": null,
   "metadata": {},
   "outputs": [],
   "source": [
    "for i in tqdm(sim_wpg_overlap_sum.MAP_ID.unique()):\n",
    "    \n",
    "    sim_wpg_overlap_mean = sim_wpg_overlap_sum.loc[sim_wpg_overlap_sum.MAP_ID == i, ['site_id', 'MAP_ID', 'w_best_site']].merge(cdr_mean, on = 'site_id', how = 'left').drop(\n",
    "        columns = {'site_id'}).dropna()\n",
    "    \n",
    "    if sim_wpg_overlap_mean.w_best_site.sum() == 0:\n",
    "        continue\n",
    "        \n",
    "    else:\n",
    "        df = sim_wpg_overlap_mean.groupby('MAP_ID').agg(\n",
    "            lambda x: np.average(x, weights=sim_wpg_overlap_mean.loc[x.index, \"w_best_site\"])).reset_index().drop(columns = ['w_best_site'])\n",
    "        \n",
    "        sim_wpg_overlap_mean_best_adm = sim_wpg_overlap_mean_best_adm.append(df)"
   ]
  },
  {
   "cell_type": "code",
   "execution_count": null,
   "metadata": {},
   "outputs": [],
   "source": [
    "sim_wpg_overlap_mean.w_best_site.sum()"
   ]
  },
  {
   "cell_type": "markdown",
   "metadata": {},
   "source": [
    "Median"
   ]
  },
  {
   "cell_type": "code",
   "execution_count": null,
   "metadata": {},
   "outputs": [],
   "source": [
    "sim_wpg_overlap_median_best_adm = pd.DataFrame()"
   ]
  },
  {
   "cell_type": "code",
   "execution_count": null,
   "metadata": {},
   "outputs": [],
   "source": [
    "for i in tqdm(sim_wpg_overlap_sum.MAP_ID.unique()):\n",
    "    \n",
    "    sim_wpg_overlap_median = sim_wpg_overlap_sum.loc[sim_wpg_overlap_sum.MAP_ID == i, ['site_id', 'MAP_ID', 'w_best_site']].merge(cdr_median, on = 'site_id', how = 'left').drop(\n",
    "        columns = {'site_id'}).dropna()\n",
    "    \n",
    "    if sim_wpg_overlap_median.w_best_site.sum() == 0:\n",
    "        continue\n",
    "        \n",
    "    else:\n",
    "        df = sim_wpg_overlap_median.groupby('MAP_ID').agg(\n",
    "            lambda x: ws.numpy_weighted_median(x, weights=sim_wpg_overlap_median.loc[x.index, \"w_best_site\"])).reset_index().drop(columns = ['w_best_site'])\n",
    "        \n",
    "        sim_wpg_overlap_median_best_adm = sim_wpg_overlap_median_best_adm.append(df)"
   ]
  },
  {
   "cell_type": "markdown",
   "metadata": {},
   "source": [
    "Bring it together"
   ]
  },
  {
   "cell_type": "code",
   "execution_count": null,
   "metadata": {},
   "outputs": [],
   "source": [
    "sim_wpg_overlap_best_adm = sim_wpg_overlap_mean_best_adm.merge(sim_wpg_overlap_median_best_adm, on = 'MAP_ID', how = 'left')"
   ]
  },
  {
   "cell_type": "markdown",
   "metadata": {},
   "source": [
    "Save it"
   ]
  },
  {
   "cell_type": "code",
   "execution_count": null,
   "metadata": {},
   "outputs": [],
   "source": [
    "sim_wpg_overlap_best_adm.to_csv('./midsave/sim_wpg_overlap_best_adm.csv', index = False)"
   ]
  },
  {
   "cell_type": "markdown",
   "metadata": {},
   "source": [
    "### IDW"
   ]
  },
  {
   "cell_type": "markdown",
   "metadata": {},
   "source": [
    "Mean"
   ]
  },
  {
   "cell_type": "code",
   "execution_count": null,
   "metadata": {},
   "outputs": [],
   "source": [
    "sim_wpg_overlap_mean_knn_adm = pd.DataFrame()"
   ]
  },
  {
   "cell_type": "code",
   "execution_count": null,
   "metadata": {},
   "outputs": [],
   "source": [
    "for i in tqdm(sim_wpg_overlap_sum.MAP_ID.unique()):\n",
    "    \n",
    "    sim_wpg_overlap_mean = sim_wpg_overlap_sum.loc[sim_wpg_overlap_sum.MAP_ID == i, ['site_id', 'MAP_ID', 'w_knn_site']].merge(cdr_mean, on = 'site_id', how = 'left').drop(\n",
    "        columns = {'site_id'}).dropna()\n",
    "    \n",
    "    if sim_wpg_overlap_mean.w_knn_site.sum() == 0:\n",
    "        continue\n",
    "        \n",
    "    else:\n",
    "        df = sim_wpg_overlap_mean.groupby('MAP_ID').agg(\n",
    "            lambda x: np.average(x, weights=sim_wpg_overlap_mean.loc[x.index, \"w_knn_site\"])).reset_index().drop(columns = ['w_knn_site'])\n",
    "        \n",
    "        sim_wpg_overlap_mean_knn_adm = sim_wpg_overlap_mean_knn_adm.append(df)"
   ]
  },
  {
   "cell_type": "markdown",
   "metadata": {},
   "source": [
    "Median"
   ]
  },
  {
   "cell_type": "code",
   "execution_count": null,
   "metadata": {},
   "outputs": [],
   "source": [
    "sim_wpg_overlap_median_knn_adm = pd.DataFrame()"
   ]
  },
  {
   "cell_type": "code",
   "execution_count": null,
   "metadata": {},
   "outputs": [],
   "source": [
    "for i in tqdm(sim_wpg_overlap_sum.MAP_ID.unique()):\n",
    "    \n",
    "    sim_wpg_overlap_median = sim_wpg_overlap_sum.loc[sim_wpg_overlap_sum.MAP_ID == i, ['site_id', 'MAP_ID', 'w_knn_site']].merge(cdr_median, on = 'site_id', how = 'left').drop(\n",
    "        columns = {'site_id'}).dropna()\n",
    "    \n",
    "    if sim_wpg_overlap_median.w_knn_site.sum() == 0:\n",
    "        continue\n",
    "        \n",
    "    else:\n",
    "        df = sim_wpg_overlap_median.groupby('MAP_ID').agg(\n",
    "            lambda x: ws.numpy_weighted_median(x, weights=sim_wpg_overlap_median.loc[x.index, \"w_knn_site\"])).reset_index().drop(columns = ['w_knn_site'])\n",
    "        \n",
    "        sim_wpg_overlap_median_knn_adm = sim_wpg_overlap_median_knn_adm.append(df)"
   ]
  },
  {
   "cell_type": "markdown",
   "metadata": {},
   "source": [
    "Bring together"
   ]
  },
  {
   "cell_type": "code",
   "execution_count": null,
   "metadata": {},
   "outputs": [],
   "source": [
    "sim_wpg_overlap_knn_adm = sim_wpg_overlap_mean_knn_adm.merge(sim_wpg_overlap_median_knn_adm, on = 'MAP_ID', how = 'left')"
   ]
  },
  {
   "cell_type": "markdown",
   "metadata": {},
   "source": [
    "Save it"
   ]
  },
  {
   "cell_type": "code",
   "execution_count": null,
   "metadata": {},
   "outputs": [],
   "source": [
    "sim_wpg_overlap_knn_adm.to_csv('./midsave/sim_wpg_overlap_knn_adm.csv', index = False)"
   ]
  }
 ],
 "metadata": {
  "kernelspec": {
   "display_name": "Python 3",
   "language": "python",
   "name": "python3"
  },
  "language_info": {
   "codemirror_mode": {
    "name": "ipython",
    "version": 3
   },
   "file_extension": ".py",
   "mimetype": "text/x-python",
   "name": "python",
   "nbconvert_exporter": "python",
   "pygments_lexer": "ipython3",
   "version": "3.7.3"
  }
 },
 "nbformat": 4,
 "nbformat_minor": 2
}
