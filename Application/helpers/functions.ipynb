{
 "cells": [
  {
   "cell_type": "markdown",
   "metadata": {},
   "source": [
    "# This file lists all the functions required for running the script"
   ]
  },
  {
   "cell_type": "code",
   "execution_count": null,
   "metadata": {},
   "outputs": [],
   "source": [
    "def collect_results(result):\n",
    "    \"\"\"Uses apply_async's callback to setup up a separate Queue for each process\"\"\"\n",
    "    results.extend(result)"
   ]
  },
  {
   "cell_type": "code",
   "execution_count": null,
   "metadata": {},
   "outputs": [],
   "source": [
    "def extract_pixel_counts(image_file, intersection_file, map_file, map_coverage, chunk):\n",
    "\n",
    "    intersection_file = intersection_file[chunk:chunk + 1000]\n",
    "    \n",
    "    df = []\n",
    "    \n",
    "    with rasterio.open(image_file) as src:\n",
    "\n",
    "        for i in range(len(intersection_file)):\n",
    "            \n",
    "            guf_part, guf_part_t = rasterio.mask.mask(src, intersection_file[intersection_file.intersection_id == intersection_file.iloc[i].intersection_id].geometry,crop=True)\n",
    "            guf_adm, guf_adm_t = rasterio.mask.mask(src, map_file[map_file.MAP_ID == intersection_file.iloc[i].MAP_ID].geometry,crop=True)\n",
    "            guf_ant, guf_ant_t = rasterio.mask.mask(src, map_coverage[map_coverage.voronoi_id == intersection_file.iloc[i].voronoi_id].geometry,crop=True)\n",
    "                \n",
    "            if np.count_nonzero(guf_adm == 255) == 0:\n",
    "                w_guf_adm = 0\n",
    "            else:\n",
    "                w_guf_adm = np.count_nonzero(guf_part == 255)/np.count_nonzero(guf_adm == 255)\n",
    "\n",
    "            if np.count_nonzero(guf_ant == 255) == 0:\n",
    "                w_guf_ant = 0\n",
    "            else:\n",
    "                w_guf_ant = np.count_nonzero(guf_part == 255)/np.count_nonzero(guf_ant == 255)\n",
    "                \n",
    "            df.append([intersection_file.intersection_id.iloc[i], w_guf_adm, w_guf_ant])\n",
    "\n",
    "    return df"
   ]
  },
  {
   "cell_type": "code",
   "execution_count": null,
   "metadata": {},
   "outputs": [],
   "source": [
    "def extract_grid_counts(image_file, intersection_file, map_file, map_coverage, chunk):\n",
    "\n",
    "    intersection_file = intersection_file[chunk:chunk + 1000]\n",
    "    \n",
    "    df = []\n",
    "    \n",
    "    with rasterio.open(image_file) as src:\n",
    "\n",
    "        for i in range(len(intersection_file)):\n",
    "            \n",
    "            wpg_part, wpg_part_t = rasterio.mask.mask(src, intersection_file[intersection_file.intersection_id == intersection_file.iloc[i].intersection_id].geometry,crop=True)\n",
    "            wpg_adm, wpg_adm_t = rasterio.mask.mask(src, map_file[map_file.MAP_ID == intersection_file.iloc[i].MAP_ID].geometry,crop=True)\n",
    "            wpg_ant, wpg_ant_t = rasterio.mask.mask(src, map_coverage[map_coverage.voronoi_id == intersection_file.iloc[i].voronoi_id].geometry,crop=True)\n",
    "                \n",
    "            if np.sum(wpg_adm) == 0:\n",
    "                w_wpg_adm = 0\n",
    "            else:\n",
    "                w_wpg_adm = np.sum(wpg_part[wpg_part >= 0])/np.sum(wpg_adm[wpg_adm >= 0])\n",
    "\n",
    "            if np.sum(wpg_ant) == 0:\n",
    "                w_wpg_ant = 0\n",
    "            else:\n",
    "                w_wpg_ant = np.sum(wpg_part[wpg_part >= 0])/np.sum(wpg_ant[wpg_ant >= 0])\n",
    "                \n",
    "            df.append([intersection_file.intersection_id.iloc[i], w_wpg_adm, w_wpg_ant])\n",
    "            \n",
    "\n",
    "    return df"
   ]
  },
  {
   "cell_type": "code",
   "execution_count": null,
   "metadata": {},
   "outputs": [],
   "source": [
    "def coordinates_from_rows_and_cols(r,c,gt):\n",
    "    \n",
    "    x = gt[1] * c + gt[2] * r + gt[1] * 0.5 + gt[2] * 0.5 + gt[0]\n",
    "    y = gt[4] * c + gt[5] * r + gt[4] * 0.5 + gt[5] * 0.5 + gt[3]\n",
    "    \n",
    "    return(x,y)"
   ]
  },
  {
   "cell_type": "code",
   "execution_count": null,
   "metadata": {},
   "outputs": [],
   "source": [
    "def extract_pixel_information(file, raster_x_size, raster_y_size, step_size):\n",
    "    \n",
    "    result = pd.DataFrame(columns = ['geometry', 'value'])\n",
    "    \n",
    "    i = raster_x_size\n",
    "\n",
    "    for j in tqdm(range(0, raster_y_size, step_size)):\n",
    "        \n",
    "        # Check if in the range of the raster is any black pixel. If there is none, jump to the next window.\n",
    "        with rasterio.open(file) as src:\n",
    "            \n",
    "            w = src.read(1, window=Window(col_off = i, row_off = j, width = step_size, height = step_size))\n",
    "                \n",
    "            if np.count_nonzero(w == 255) == 0:\n",
    "                \n",
    "                continue\n",
    "                \n",
    "            else:\n",
    "            \n",
    "                # Extract coordinates from column and rows\n",
    "                df = gpd.GeoDataFrame.from_records(itertools.product(range(i,i + step_size),range(j, j + step_size)),columns=['Row','Column'])\n",
    "                df['X'], df['Y'] = zip(*df.apply(lambda x: coordinates_from_rows_and_cols(r = x['Column'],c = x['Row'],gt = gt),axis=1))\n",
    "                df['geometry'] = [Point(xy) for xy in zip(df.X, df.Y)]\n",
    "                df.crs = map_commune.crs\n",
    "\n",
    "                # Extract pixel values for points\n",
    "                df['value'] = point_query(df['geometry'], file_guf)\n",
    "\n",
    "                # Reduce dataset to black pixels only\n",
    "                df = df[df.value == 255].drop(columns = ['X', 'Y', 'Row', 'Column'])\n",
    "\n",
    "        result = result.append(df)\n",
    "\n",
    "    return(result.values.tolist())"
   ]
  },
  {
   "cell_type": "code",
   "execution_count": null,
   "metadata": {},
   "outputs": [],
   "source": [
    "def extract_grid_information(file, raster_x_size, raster_y_size, step_size):\n",
    "    \n",
    "    result = pd.DataFrame(columns = ['geometry', 'pop_per_grid'])\n",
    "    \n",
    "    i = raster_x_size\n",
    "\n",
    "    for j in tqdm(range(0, raster_y_size, step_size)):\n",
    "        \n",
    "        # Check if in the range of the raster is any black pixel. If there is none, jump to the next window.\n",
    "        with rasterio.open(file) as src:\n",
    "            \n",
    "            w = src.read(1, window=Window(col_off = i, row_off = j, width = step_size, height = step_size))\n",
    "                \n",
    "            # Extract coordinates from column and rows\n",
    "            df = gpd.GeoDataFrame.from_records(itertools.product(range(i,i + step_size),range(j, j + step_size)),columns=['Row','Column'])\n",
    "            df['X'], df['Y'] = zip(*df.apply(lambda x: coordinates_from_rows_and_cols(r = x['Column'],c = x['Row'],gt = gt),axis=1))\n",
    "            df['geometry'] = [Point(xy) for xy in zip(df.X, df.Y)]\n",
    "            df.crs = map_commune.crs\n",
    "\n",
    "            # Extract pixel values for points\n",
    "            df['pop_per_grid'] = point_query(df['geometry'], file)\n",
    "\n",
    "            # Reduce dataset to black pixels only\n",
    "            df = df[df.pop_per_grid >= 0].drop(columns = ['X', 'Y', 'Row', 'Column'])\n",
    "\n",
    "        result = result.append(df)\n",
    "\n",
    "    return(result.values.tolist())"
   ]
  },
  {
   "cell_type": "code",
   "execution_count": null,
   "metadata": {},
   "outputs": [],
   "source": [
    "def ckdnearest(start_points, neighbor_points, k_nearest):\n",
    "    nA = np.array(list(zip(start_points.geometry.x, start_points.geometry.y)) )\n",
    "    nB = np.array(list(zip(neighbor_points.geometry.x, neighbor_points.geometry.y)) )\n",
    "    btree = spatial.cKDTree(nB)\n",
    "    dist, idx = btree.query(nA, k = [k_nearest])\n",
    "    gdf = pd.concat(\n",
    "        [start_points, neighbor_points.loc[idx.flatten(), neighbor_points.columns != 'geometry'].reset_index(),\n",
    "         pd.Series(dist.flatten(), name = 'distance')], axis=1)\n",
    "    return gdf"
   ]
  },
  {
   "cell_type": "code",
   "execution_count": null,
   "metadata": {},
   "outputs": [],
   "source": [
    "def haversine(lon1, lat1, lon2, lat2):\n",
    "    \"\"\"\n",
    "    Calculate the great circle distance between two points \n",
    "    on the earth (specified in decimal degrees)\n",
    "    \"\"\"\n",
    "    # convert decimal degrees to radians \n",
    "    lon1, lat1, lon2, lat2 = map(radians, [lon1, lat1, lon2, lat2])\n",
    "\n",
    "    # haversine formula \n",
    "    dlon = lon2 - lon1 \n",
    "    dlat = lat2 - lat1 \n",
    "    a = sin(dlat/2)**2 + cos(lat1) * cos(lat2) * sin(dlon/2)**2\n",
    "    c = 2 * asin(sqrt(a)) \n",
    "    r = 6371 # Radius of earth in kilometers. Use 3956 for miles\n",
    "    return c * r"
   ]
  },
  {
   "cell_type": "code",
   "execution_count": null,
   "metadata": {},
   "outputs": [],
   "source": []
  },
  {
   "cell_type": "code",
   "execution_count": null,
   "metadata": {},
   "outputs": [],
   "source": []
  }
 ],
 "metadata": {
  "kernelspec": {
   "display_name": "Python 3",
   "language": "python",
   "name": "python3"
  },
  "language_info": {
   "codemirror_mode": {
    "name": "ipython",
    "version": 3
   },
   "file_extension": ".py",
   "mimetype": "text/x-python",
   "name": "python",
   "nbconvert_exporter": "python",
   "pygments_lexer": "ipython3",
   "version": "3.7.3"
  }
 },
 "nbformat": 4,
 "nbformat_minor": 2
}
