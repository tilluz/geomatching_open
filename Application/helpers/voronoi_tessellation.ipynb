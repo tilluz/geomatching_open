{
 "cells": [
  {
   "cell_type": "markdown",
   "metadata": {},
   "source": [
    "# Voronoi tessellation"
   ]
  },
  {
   "cell_type": "markdown",
   "metadata": {},
   "source": [
    "### Turn coordinates into arrays"
   ]
  },
  {
   "cell_type": "code",
   "execution_count": null,
   "metadata": {},
   "outputs": [],
   "source": [
    "coords = np.array(\n",
    "    list(\n",
    "        [list(xy) for xy in zip(ant_points.lon, ant_points.lat)]))"
   ]
  },
  {
   "cell_type": "markdown",
   "metadata": {},
   "source": [
    "### Clipping Voronoi diagram to shape of Senegal"
   ]
  },
  {
   "cell_type": "code",
   "execution_count": null,
   "metadata": {},
   "outputs": [],
   "source": [
    "poly_shapes, pts, poly_to_pt_assignments = voronoi_regions_from_coords(coords, map_commune.unary_union)"
   ]
  },
  {
   "cell_type": "code",
   "execution_count": null,
   "metadata": {},
   "outputs": [],
   "source": [
    "map_voronoi = gpd.GeoDataFrame(poly_to_pt_assignments, columns = ['voronoi_id'], crs = map_commune.crs, geometry = poly_shapes)"
   ]
  },
  {
   "cell_type": "markdown",
   "metadata": {},
   "source": [
    "### Calculating voronoi area sizes"
   ]
  },
  {
   "cell_type": "code",
   "execution_count": null,
   "metadata": {},
   "outputs": [],
   "source": [
    "map_voronoi['voronoi_km2'] = map_voronoi.to_crs({'init': 'epsg:31028'}).area / 10**6"
   ]
  },
  {
   "cell_type": "code",
   "execution_count": null,
   "metadata": {},
   "outputs": [],
   "source": [
    "map_voronoi_points = gpd.tools.sjoin(map_voronoi, map_ant_points, how=\"left\", op='intersects').drop(columns = ['index_right'])"
   ]
  },
  {
   "cell_type": "markdown",
   "metadata": {},
   "source": [
    "### Intersecting with commune map"
   ]
  },
  {
   "cell_type": "code",
   "execution_count": null,
   "metadata": {},
   "outputs": [],
   "source": [
    "map_voronoi_points['geometry'] = map_voronoi_points.geometry.convex_hull"
   ]
  },
  {
   "cell_type": "code",
   "execution_count": null,
   "metadata": {},
   "outputs": [],
   "source": [
    "map_intersection_voronoi = gpd.overlay(map_voronoi_points, map_commune[['MAP_ID', 'geometry', 'SUPERFICIE']], how = 'intersection')"
   ]
  },
  {
   "cell_type": "code",
   "execution_count": null,
   "metadata": {},
   "outputs": [],
   "source": [
    "map_intersection_voronoi.insert(loc=0, column='intersection_id', value=list(range(len(map_intersection_voronoi))))"
   ]
  },
  {
   "cell_type": "markdown",
   "metadata": {},
   "source": [
    "### Calculating relevant area sizes"
   ]
  },
  {
   "cell_type": "code",
   "execution_count": null,
   "metadata": {},
   "outputs": [],
   "source": [
    "map_intersection_voronoi['intersection_km2'] = map_intersection_voronoi.to_crs({'init': 'epsg:31028'}).area / 10**6"
   ]
  },
  {
   "cell_type": "code",
   "execution_count": null,
   "metadata": {},
   "outputs": [],
   "source": [
    "map_intersection_voronoi.head(3)"
   ]
  },
  {
   "cell_type": "markdown",
   "metadata": {},
   "source": [
    "### Calculating spatial weight"
   ]
  },
  {
   "cell_type": "code",
   "execution_count": null,
   "metadata": {},
   "outputs": [],
   "source": [
    "map_intersection_voronoi['w_geo_adm'] = map_intersection_voronoi.intersection_km2 / map_intersection_voronoi.SUPERFICIE\n",
    "map_intersection_voronoi['w_geo_ant'] = map_intersection_voronoi.intersection_km2 / map_intersection_voronoi.voronoi_km2"
   ]
  },
  {
   "cell_type": "markdown",
   "metadata": {},
   "source": [
    "### Calculating GUF weights"
   ]
  },
  {
   "cell_type": "code",
   "execution_count": null,
   "metadata": {},
   "outputs": [],
   "source": [
    "results = []\n",
    "\n",
    "if __name__ == \"__main__\":\n",
    "    start_time = time.time()  \n",
    "    \n",
    "    pool = mp.Pool(processes=mp.cpu_count()-1)\n",
    "    [pool.apply_async(extract_pixel_counts, args=(\n",
    "        file_guf, map_intersection_voronoi, map_commune, map_voronoi_points, x), callback=collect_results) for x in range(0, len(map_intersection_voronoi), 1000)]\n",
    "    pool.close()\n",
    "    pool.join()\n",
    "    \n",
    "    map_intersection_voronoi = map_intersection_voronoi.merge(\n",
    "        pd.DataFrame(data = results, columns = ['intersection_id', 'w_guf_adm', 'w_guf_ant']), on = 'intersection_id', how = 'left')\n",
    "    print(\"--- %s seconds ---\" % (time.time() - start_time))"
   ]
  },
  {
   "cell_type": "markdown",
   "metadata": {},
   "source": [
    "### Calculating WPG weights"
   ]
  },
  {
   "cell_type": "code",
   "execution_count": null,
   "metadata": {},
   "outputs": [],
   "source": [
    "results = []\n",
    "\n",
    "if __name__ == \"__main__\":\n",
    "    start_time = time.time()  \n",
    "    \n",
    "    pool = mp.Pool(processes=mp.cpu_count()-1)\n",
    "    [pool.apply_async(extract_grid_counts, args=(\n",
    "        file_wpg, map_intersection_voronoi, map_commune, map_voronoi_points, x), callback=collect_results) for x in range(0, len(map_intersection_voronoi), 1000)]\n",
    "    pool.close()\n",
    "    pool.join()\n",
    "    \n",
    "    map_intersection_voronoi = map_intersection_voronoi.merge(\n",
    "        pd.DataFrame(data = results, columns = ['intersection_id', 'w_wpg_adm', 'w_wpg_ant']), on = 'intersection_id', how = 'left')\n",
    "    print(\"--- %s seconds ---\" % (time.time() - start_time))"
   ]
  },
  {
   "cell_type": "code",
   "execution_count": null,
   "metadata": {},
   "outputs": [],
   "source": [
    "map_intersection_voronoi.to_csv('./midsave/map_voronoi.csv', index = False)\n",
    "map_intersection_voronoi.to_file('./midsave/map_voronoi.shp')\n",
    "map_voronoi_points.to_file('./midsave/map_voronoi_points.shp')"
   ]
  }
 ],
 "metadata": {
  "kernelspec": {
   "display_name": "Python 3",
   "language": "python",
   "name": "python3"
  },
  "language_info": {
   "codemirror_mode": {
    "name": "ipython",
    "version": 3
   },
   "file_extension": ".py",
   "mimetype": "text/x-python",
   "name": "python",
   "nbconvert_exporter": "python",
   "pygments_lexer": "ipython3",
   "version": "3.7.3"
  }
 },
 "nbformat": 4,
 "nbformat_minor": 2
}
