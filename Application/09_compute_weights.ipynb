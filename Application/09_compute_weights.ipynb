{
 "cells": [
  {
   "cell_type": "markdown",
   "metadata": {},
   "source": [
    "# Modelling with-in cell heterogeneity with satellite imagery"
   ]
  },
  {
   "cell_type": "markdown",
   "metadata": {},
   "source": [
    "## Abstract"
   ]
  },
  {
   "cell_type": "markdown",
   "metadata": {},
   "source": [
    "There is a growing scientific literature on using mobile phone metadata, especially CDRs as auxiliary data for official statistics. When an individual makes a call, sends a message or uses the mobile internet, meta information about this interaction, such as the timestamp and the location, are stored in the database of the mobile network operator. Researchers exploit those spatio-temporal references for geo-located analysis. Although the spatio-temporal element in mobile phone metadata is a key argument for using MPD, little research has been done on the precision of the location information. In the case of CDRs, the geographic link is provided by the antenna location, often stored as a point coordinate of the physical location of the corresponding antenna. Due it's simplicity, large parts of the scientific literature treat them as such. However, the interactions captured by the antenna do not happen entirely at this exact coordinate, but within the coverage area of the antenna - the cell. Another widely used attempt to account for the coverage area is voronoi tessellation - dividing the space around antennas depending on the distance to the surrounding antennas. This - at best - represents a naive approximation of the true coverage area as it does not take overlapping coverage areas, areas without coverage and heterogeneity within the cells into account. This paper will build on recent results from Ricchiato et al. on Bayesian estimation of coverage areas and extends it satellite imagery to account for within-cell heterogeneity of interactions."
   ]
  },
  {
   "cell_type": "markdown",
   "metadata": {},
   "source": [
    "## Preparations"
   ]
  },
  {
   "cell_type": "markdown",
   "metadata": {},
   "source": [
    "#### Modules"
   ]
  },
  {
   "cell_type": "code",
   "execution_count": null,
   "metadata": {},
   "outputs": [],
   "source": [
    "import pandas as pd\n",
    "import geopandas as gpd\n",
    "from geopandas import GeoDataFrame\n",
    "from shapely.geometry import Point, Polygon\n",
    "import matplotlib.pyplot as plt\n",
    "import rasterio\n",
    "import rasterio.mask\n",
    "from rasterio.windows import Window\n",
    "import folium\n",
    "import math\n",
    "import numpy as np\n",
    "import itertools\n",
    "import gdal\n",
    "import multiprocessing as mp\n",
    "from rasterstats import point_query\n",
    "import time\n",
    "import shapely\n",
    "import scipy.spatial as spatial\n",
    "from geovoronoi import voronoi_regions_from_coords\n",
    "from tqdm import tqdm\n",
    "import gc\n",
    "from math import radians, cos, sin, asin, sqrt\n",
    "import weightedstats as ws\n",
    "import robustats as rs"
   ]
  },
  {
   "cell_type": "markdown",
   "metadata": {},
   "source": [
    "#### Paths & Files"
   ]
  },
  {
   "cell_type": "code",
   "execution_count": null,
   "metadata": {},
   "outputs": [],
   "source": [
    "file_antenna = './midsave/SITE_ARR_LONLAT_EXACT.csv'\n",
    "file_commune_map = './midsave/shape_com.shp'\n",
    "file_guf = './input/senegal.tif' # \"sen_bsgmi_v0a_100m_2013.tif\"\n",
    "file_wpg = './input/sen_ppp_2013.tif'\n",
    "file_cdr = './midsave/NUTS5_tower.csv'\n",
    "file_bandicoot = './midsave/bandicoot_tower.csv'\n",
    "file_map_pixel = './midsave/map_pixel.shp'\n",
    "file_map_grid = './midsave/map_grid.shp'\n",
    "file_map_pixel_knn = './midsave/w_knn.csv'\n",
    "file_map_grid_knn = './midsave/w_grid_knn.csv'\n",
    "file_map_pixel_adm = './midsave/w_knn_adm.csv'\n",
    "file_map_grid_adm = './midsave/w_grid_adm.csv'\n",
    "file_map_voronoi = './midsave/map_voronoi.csv'"
   ]
  },
  {
   "cell_type": "markdown",
   "metadata": {},
   "source": [
    "#### Notebook options"
   ]
  },
  {
   "cell_type": "code",
   "execution_count": null,
   "metadata": {},
   "outputs": [],
   "source": [
    "%reload_ext autoreload\n",
    "%autoreload 2\n",
    "%matplotlib inline"
   ]
  },
  {
   "cell_type": "markdown",
   "metadata": {},
   "source": [
    "### Functions"
   ]
  },
  {
   "cell_type": "code",
   "execution_count": null,
   "metadata": {},
   "outputs": [],
   "source": [
    "%%capture\n",
    "# load census and projections data\n",
    "%run ./helpers/functions.ipynb"
   ]
  },
  {
   "cell_type": "markdown",
   "metadata": {},
   "source": [
    "## Data"
   ]
  },
  {
   "cell_type": "markdown",
   "metadata": {},
   "source": [
    "#### Map"
   ]
  },
  {
   "cell_type": "code",
   "execution_count": null,
   "metadata": {},
   "outputs": [],
   "source": [
    "map_commune = gpd.read_file(file_commune_map).rename(columns={\"SP_ID\": \"MAP_ID\", \"Shape_Area\": \"SUPERFICIE\", 'CCOD_CRCA' : 'COD_ENTITE'})\n",
    "map_commune.crs = map_commune.to_crs({'init': 'epsg:4326'})\n",
    "map_commune.loc[(map_commune.COD_ENTITE == '02120201') & (map_commune.COD_CRCA == '05'), 'COD_ENTITE'] = '02120205'\n",
    "map_commune.loc[(map_commune.COD_ENTITE == '02220101') & (map_commune.CCOD_CAV == '022202'), 'COD_ENTITE'] = '02220201'"
   ]
  },
  {
   "cell_type": "code",
   "execution_count": null,
   "metadata": {},
   "outputs": [],
   "source": [
    "map_commune['MAP_ID'] = map_commune.MAP_ID.astype('uint16')"
   ]
  },
  {
   "cell_type": "code",
   "execution_count": null,
   "metadata": {},
   "outputs": [],
   "source": [
    "map_commune.to_file('./midsave/map_commune.shp')"
   ]
  },
  {
   "cell_type": "markdown",
   "metadata": {},
   "source": [
    "#### Antenna locations"
   ]
  },
  {
   "cell_type": "code",
   "execution_count": null,
   "metadata": {},
   "outputs": [],
   "source": [
    "ant_points = pd.read_csv(file_antenna, sep = ';', header = None, names = ('site_id', 'lon', 'lat'))"
   ]
  },
  {
   "cell_type": "code",
   "execution_count": null,
   "metadata": {},
   "outputs": [],
   "source": [
    "ant_points.loc[ant_points.site_id == 254, 'lon'] = -17.433461\n",
    "ant_points.loc[ant_points.site_id == 254, 'lat'] = 14.660496"
   ]
  },
  {
   "cell_type": "code",
   "execution_count": null,
   "metadata": {},
   "outputs": [],
   "source": [
    "ant_points.head(3)"
   ]
  },
  {
   "cell_type": "code",
   "execution_count": null,
   "metadata": {},
   "outputs": [],
   "source": [
    "map_ant_points = gpd.GeoDataFrame(ant_points.drop(['lon', 'lat'], axis=1),\n",
    "                    crs=map_commune.crs,\n",
    "                    geometry=[Point(xy) for xy in zip(ant_points.lon, ant_points.lat)])"
   ]
  },
  {
   "cell_type": "code",
   "execution_count": null,
   "metadata": {},
   "outputs": [],
   "source": [
    "print('Site locations')\n",
    "map_ant_points.plot()"
   ]
  },
  {
   "cell_type": "markdown",
   "metadata": {},
   "source": [
    "#### RGPHAE 2013"
   ]
  },
  {
   "cell_type": "markdown",
   "metadata": {},
   "source": [
    "## Methodology"
   ]
  },
  {
   "cell_type": "markdown",
   "metadata": {},
   "source": [
    "#### Point allocation"
   ]
  },
  {
   "cell_type": "code",
   "execution_count": null,
   "metadata": {},
   "outputs": [],
   "source": [
    "map_intersection_points = gpd.tools.sjoin(map_ant_points, map_commune, how=\"left\", op='intersects')"
   ]
  },
  {
   "cell_type": "code",
   "execution_count": null,
   "metadata": {},
   "outputs": [],
   "source": [
    "map_intersection_points.head(3)"
   ]
  },
  {
   "cell_type": "code",
   "execution_count": null,
   "metadata": {},
   "outputs": [],
   "source": [
    "xwalk_points = map_intersection_points[['site_id', 'MAP_ID']].copy()"
   ]
  },
  {
   "cell_type": "code",
   "execution_count": null,
   "metadata": {},
   "outputs": [],
   "source": [
    "xwalk_points.head(3)"
   ]
  },
  {
   "cell_type": "markdown",
   "metadata": {},
   "source": [
    "How many communes do not have an antenna site located within?"
   ]
  },
  {
   "cell_type": "code",
   "execution_count": null,
   "metadata": {},
   "outputs": [],
   "source": [
    "len(map_commune.MAP_ID.unique())-len(xwalk_points.MAP_ID.drop_duplicates())"
   ]
  },
  {
   "cell_type": "markdown",
   "metadata": {},
   "source": [
    "How many sites have not been allocated to a commune?"
   ]
  },
  {
   "cell_type": "code",
   "execution_count": null,
   "metadata": {},
   "outputs": [],
   "source": [
    "pd.isna(xwalk_points.MAP_ID).sum()"
   ]
  },
  {
   "cell_type": "markdown",
   "metadata": {},
   "source": [
    "With the point allocation of sites to communes, 46 communes do not have any mobile phone metadata covariates."
   ]
  },
  {
   "cell_type": "markdown",
   "metadata": {},
   "source": [
    "### Calculating site density"
   ]
  },
  {
   "cell_type": "code",
   "execution_count": null,
   "metadata": {},
   "outputs": [],
   "source": [
    "map_intersection_points.head(3)"
   ]
  },
  {
   "cell_type": "code",
   "execution_count": null,
   "metadata": {},
   "outputs": [],
   "source": [
    "counts = map_intersection_points.groupby('MAP_ID')['site_id'].count()"
   ]
  },
  {
   "cell_type": "code",
   "execution_count": null,
   "metadata": {},
   "outputs": [],
   "source": [
    "map_urbanity = map_commune.merge(counts, how = 'right', on = 'MAP_ID')"
   ]
  },
  {
   "cell_type": "code",
   "execution_count": null,
   "metadata": {},
   "outputs": [],
   "source": [
    "map_urbanity['site_density'] = map_urbanity.site_id/map_urbanity.SUPERFICIE"
   ]
  },
  {
   "cell_type": "code",
   "execution_count": null,
   "metadata": {},
   "outputs": [],
   "source": [
    "map_urbanity.to_file('./midsave/map_urbanity.shp')"
   ]
  },
  {
   "cell_type": "markdown",
   "metadata": {},
   "source": [
    "# Voronoi tessellation"
   ]
  },
  {
   "cell_type": "markdown",
   "metadata": {},
   "source": [
    "Run script"
   ]
  },
  {
   "cell_type": "code",
   "execution_count": null,
   "metadata": {},
   "outputs": [],
   "source": [
    "%%capture\n",
    "%run ./helpers/voronoi_tessellation.ipynb"
   ]
  },
  {
   "cell_type": "code",
   "execution_count": null,
   "metadata": {},
   "outputs": [],
   "source": [
    "map_intersection_voronoi.describe()"
   ]
  },
  {
   "cell_type": "markdown",
   "metadata": {},
   "source": [
    "# Global Urban Footprint"
   ]
  },
  {
   "cell_type": "markdown",
   "metadata": {},
   "source": [
    "There are two different approaches to combine GUF data with the other information:\n",
    "\n",
    "1. Count the number of black (i.e. \"urban\") pixels per area and calculate spatial weights from it. For antenna areas, this would be a weight to distribute the total number of home_users incl. their attributes to the respective administrative area while assuming equal probabilities among intersecting antennas. For administrative areas, this would be a weight to distribute the total number of inhabitants incl. their attributes to the respective antenna. So we could calculate a calibration weight for every area in the map_intersection_circle file.\n",
    "\n",
    "2. Calculate the centroid of each black pixel in Senegal, assign it to an administrative area, draw a buffer around it and calculate the value of the log-normal pdf from each antenna within the buffer. The antenna with the highest value gets the black pixel assigned. Both antenna and area values are then uniformly distributed across the black pixels. and map it to the 10 nearest antennas (nearest neighbor) and the respective administrative area (point-in-polygon). The pixel is then allocated to the antenna with strongest signal (approximated via a poisson point process). This would allow for a distribution of attributes by pixel (~12m)."
   ]
  },
  {
   "cell_type": "markdown",
   "metadata": {},
   "source": [
    "### Counting black pixels under unequal probabilities - by pixel"
   ]
  },
  {
   "cell_type": "code",
   "execution_count": null,
   "metadata": {},
   "outputs": [],
   "source": [
    "with rasterio.open(file_guf) as src:\n",
    "    print(src.profile)"
   ]
  },
  {
   "cell_type": "markdown",
   "metadata": {},
   "source": [
    "Extract the centroid of each pixel"
   ]
  },
  {
   "cell_type": "code",
   "execution_count": null,
   "metadata": {},
   "outputs": [],
   "source": [
    "ds = gdal.Open(file_guf)\n",
    "gt = ds.GetGeoTransform()"
   ]
  },
  {
   "cell_type": "code",
   "execution_count": null,
   "metadata": {},
   "outputs": [],
   "source": [
    "results = []\n",
    "\n",
    "if __name__ == \"__main__\":\n",
    "    start_time = time.time()  \n",
    "    \n",
    "    # Repeats the compute intensive operation on 10 data frames concurrently\n",
    "    pool = mp.Pool(processes=mp.cpu_count()-1)\n",
    "    [pool.apply_async(extract_pixel_information, args=(file_guf, x, ds.RasterYSize, 100), callback=collect_results) for x in range(0, ds.RasterXSize, 100)]\n",
    "    pool.close()\n",
    "    pool.join()\n",
    "    \n",
    "    # Converts list of lists to a data frame\n",
    "    map_pixel = gpd.GeoDataFrame(results, columns = ['geometry', 'value'], crs = map_commune.crs)\n",
    "    print(\"--- %s seconds ---\" % (time.time() - start_time))"
   ]
  },
  {
   "cell_type": "code",
   "execution_count": null,
   "metadata": {},
   "outputs": [],
   "source": [
    "map_pixel.head(3)"
   ]
  },
  {
   "cell_type": "markdown",
   "metadata": {},
   "source": [
    "Creating pixel id"
   ]
  },
  {
   "cell_type": "code",
   "execution_count": null,
   "metadata": {},
   "outputs": [],
   "source": [
    "map_pixel.insert(loc = 0, column='pixel_id', value=list(range(len(map_pixel))))"
   ]
  },
  {
   "cell_type": "code",
   "execution_count": null,
   "metadata": {},
   "outputs": [],
   "source": [
    "map_pixel.head(3)"
   ]
  },
  {
   "cell_type": "code",
   "execution_count": null,
   "metadata": {},
   "outputs": [],
   "source": [
    "map_pixel[['pixel_id', 'geometry']].to_file('./midsave/map_pixel.shp')"
   ]
  },
  {
   "cell_type": "markdown",
   "metadata": {},
   "source": [
    "### Technical antenna specifications"
   ]
  },
  {
   "cell_type": "code",
   "execution_count": null,
   "metadata": {},
   "outputs": [],
   "source": [
    "ant_details = map_intersection_points[['site_id', 'geometry', 'MAP_ID']].merge(map_urbanity[['MAP_ID', 'site_density']], on = 'MAP_ID', how = 'left')"
   ]
  },
  {
   "cell_type": "code",
   "execution_count": null,
   "metadata": {},
   "outputs": [],
   "source": [
    "ant_details['antenna_height'] = 30"
   ]
  },
  {
   "cell_type": "code",
   "execution_count": null,
   "metadata": {},
   "outputs": [],
   "source": [
    "ant_details['settlement_type'] = 'rural'\n",
    "ant_details.loc[ant_details.site_density >= ant_details.site_density.median(), 'settlement_type'] = 'suburban' # .quantile(0.25)\n",
    "ant_details.loc[ant_details.site_density >= 1, 'settlement_type'] = 'urban'"
   ]
  },
  {
   "cell_type": "code",
   "execution_count": null,
   "metadata": {},
   "outputs": [],
   "source": [
    "ant_details.loc[ant_details.settlement_type == 'rural', 'frequency'] = np.random.RandomState().binomial(\n",
    "    1, 0.0, ant_details.loc[ant_details.settlement_type == 'rural'].shape[0])\n",
    "ant_details.loc[ant_details.settlement_type == 'suburban', 'frequency'] = np.random.RandomState().binomial(\n",
    "    1, 0.7, ant_details.loc[ant_details.settlement_type == 'suburban'].shape[0])\n",
    "ant_details.loc[ant_details.settlement_type == 'urban', 'frequency'] = np.random.RandomState().binomial(\n",
    "    1, 0.9, ant_details.loc[ant_details.settlement_type == 'urban'].shape[0])"
   ]
  },
  {
   "cell_type": "code",
   "execution_count": null,
   "metadata": {},
   "outputs": [],
   "source": [
    "ant_details.loc[ant_details['frequency'] == 0, 'frequency'] = 900\n",
    "ant_details.loc[ant_details['frequency'] == 1, 'frequency'] = 2100"
   ]
  },
  {
   "cell_type": "code",
   "execution_count": null,
   "metadata": {},
   "outputs": [],
   "source": [
    "ant_details.to_file('./midsave/ant_details.shp')"
   ]
  },
  {
   "cell_type": "code",
   "execution_count": null,
   "metadata": {},
   "outputs": [],
   "source": [
    "ant_details[ant_details.frequency == 2100].plot()"
   ]
  },
  {
   "cell_type": "markdown",
   "metadata": {},
   "source": [
    "### 10-Nearest Neighbors Pixel and Antennas"
   ]
  },
  {
   "cell_type": "markdown",
   "metadata": {},
   "source": [
    "Load the extended HATA model -> https://ecocfl.cept.org/display/SH/A17.3.1+Outdoor-outdoor+propagation"
   ]
  },
  {
   "cell_type": "markdown",
   "metadata": {},
   "source": [
    "Assumptions:\n",
    "\n",
    "- 2100 MHz in big urban areas (tbd), 900 MHz otherwise\n",
    "- Only Dakar urban area, all others suburban or rural\n",
    "- nlos in Dakar, los in suburban/ rural areas\n",
    "- all outdoor\n",
    "- all above roof\n",
    "- all at 30m"
   ]
  },
  {
   "cell_type": "code",
   "execution_count": null,
   "metadata": {},
   "outputs": [],
   "source": [
    "%%capture\n",
    "# load census and projections data\n",
    "%run ./helpers/propagation_model_extended_hata.ipynb"
   ]
  },
  {
   "cell_type": "markdown",
   "metadata": {},
   "source": [
    "Load pixel data"
   ]
  },
  {
   "cell_type": "code",
   "execution_count": null,
   "metadata": {},
   "outputs": [],
   "source": [
    "map_pixel = gpd.read_file(file_map_pixel)"
   ]
  },
  {
   "cell_type": "markdown",
   "metadata": {},
   "source": [
    "Convert CRS to unit in meters"
   ]
  },
  {
   "cell_type": "code",
   "execution_count": null,
   "metadata": {},
   "outputs": [],
   "source": [
    "map_pixel = map_pixel.to_crs({'init': 'epsg:31028'})"
   ]
  },
  {
   "cell_type": "code",
   "execution_count": null,
   "metadata": {},
   "outputs": [],
   "source": [
    "map_ant_points = map_ant_points.to_crs({'init': 'epsg:31028'})"
   ]
  },
  {
   "cell_type": "markdown",
   "metadata": {},
   "source": [
    "Run the nearest neighbor search and calculate the path loss from the extracted distance"
   ]
  },
  {
   "cell_type": "code",
   "execution_count": null,
   "metadata": {},
   "outputs": [],
   "source": [
    "nA = np.array(list(zip(map_pixel.geometry.x, map_pixel.geometry.y)) )\n",
    "nB = np.array(list(zip(map_ant_points.geometry.x, map_ant_points.geometry.y)) )\n",
    "btree = spatial.cKDTree(nB)"
   ]
  },
  {
   "cell_type": "code",
   "execution_count": null,
   "metadata": {},
   "outputs": [],
   "source": [
    "map_pixel_knn = pd.DataFrame(columns = ['pixel_id', 'site_id', 'path_loss'])\n",
    "\n",
    "for i in tqdm(range(1,6)):\n",
    "    \n",
    "    # Calculate the k-nearest antennas to each pixel\n",
    "    dist, idx = btree.query(nA, k = [i])\n",
    "    temp = pd.concat(\n",
    "        [map_pixel[['pixel_id']], map_ant_points.loc[idx.flatten(), map_ant_points.columns != 'geometry'].reset_index(),\n",
    "         pd.Series(dist.flatten(), name = 'distance') / 10**3], axis = 1).drop(columns = ['index'])\n",
    "    \n",
    "    # Merge technical specifications of the antennas\n",
    "    temp = temp.merge(\n",
    "        ant_details[['site_id', 'antenna_height', 'settlement_type', 'frequency']], on = 'site_id', how = 'left').astype(\n",
    "        {'pixel_id': 'uint32', 'site_id': 'uint16', 'antenna_height': 'uint8', 'frequency': 'uint16'})\n",
    "    \n",
    "    # Calculate the path loss between each pixel and antenna\n",
    "    temp['alpha'] = temp.apply(lambda row: alpha_value(row['frequency'], row['distance'], row['antenna_height']), axis = 1)\n",
    "    temp['path_loss'] = temp.apply(lambda row: calculate_path_loss_hata_novar(row['frequency'], row['settlement_type'], row['distance'], row['antenna_height'], 1, row['alpha']), axis = 1)\n",
    "\n",
    "    map_pixel_knn = map_pixel_knn.append(temp[['pixel_id', 'site_id', 'path_loss']])\n",
    "    \n",
    "    gc.collect()"
   ]
  },
  {
   "cell_type": "code",
   "execution_count": null,
   "metadata": {},
   "outputs": [],
   "source": [
    "btree = None\n",
    "nA = None\n",
    "nB = None\n",
    "dist = None\n",
    "idx = None"
   ]
  },
  {
   "cell_type": "code",
   "execution_count": null,
   "metadata": {},
   "outputs": [],
   "source": [
    "gc.collect()"
   ]
  },
  {
   "cell_type": "code",
   "execution_count": null,
   "metadata": {},
   "outputs": [],
   "source": [
    "map_pixel_knn.head(3)"
   ]
  },
  {
   "cell_type": "code",
   "execution_count": null,
   "metadata": {},
   "outputs": [],
   "source": [
    "map_pixel_knn.to_csv('./midsave/map_pixel_knn.csv', index = False)"
   ]
  },
  {
   "cell_type": "markdown",
   "metadata": {},
   "source": [
    "### Point-to-polygon allocation of pixels to administrative areas"
   ]
  },
  {
   "cell_type": "code",
   "execution_count": null,
   "metadata": {},
   "outputs": [],
   "source": [
    "map_pixel = gpd.read_file(file_map_pixel)"
   ]
  },
  {
   "cell_type": "code",
   "execution_count": null,
   "metadata": {},
   "outputs": [],
   "source": [
    "map_pixel_adm = gpd.tools.sjoin(map_pixel, map_commune[['MAP_ID', 'geometry']], how=\"left\", op='intersects').drop(columns=['index_right'])"
   ]
  },
  {
   "cell_type": "code",
   "execution_count": null,
   "metadata": {},
   "outputs": [],
   "source": [
    "len(map_pixel_adm.MAP_ID.unique())"
   ]
  },
  {
   "cell_type": "code",
   "execution_count": null,
   "metadata": {},
   "outputs": [],
   "source": [
    "gc.collect()"
   ]
  },
  {
   "cell_type": "markdown",
   "metadata": {},
   "source": [
    "Some pixels have been allocated to more than one commune"
   ]
  },
  {
   "cell_type": "code",
   "execution_count": null,
   "metadata": {},
   "outputs": [],
   "source": [
    "map_pixel_adm.drop_duplicates(subset = 'pixel_id', keep = False, inplace = True)"
   ]
  },
  {
   "cell_type": "markdown",
   "metadata": {},
   "source": [
    "Some pixels lay outside the country borders. Drop them."
   ]
  },
  {
   "cell_type": "code",
   "execution_count": null,
   "metadata": {},
   "outputs": [],
   "source": [
    "len(map_pixel_adm)"
   ]
  },
  {
   "cell_type": "code",
   "execution_count": null,
   "metadata": {},
   "outputs": [],
   "source": [
    "map_pixel_adm = map_pixel_adm.dropna()"
   ]
  },
  {
   "cell_type": "code",
   "execution_count": null,
   "metadata": {},
   "outputs": [],
   "source": [
    "len(map_pixel_adm)"
   ]
  },
  {
   "cell_type": "code",
   "execution_count": null,
   "metadata": {},
   "outputs": [],
   "source": [
    "len(map_pixel_adm.MAP_ID.unique())"
   ]
  },
  {
   "cell_type": "code",
   "execution_count": null,
   "metadata": {},
   "outputs": [],
   "source": [
    "map_pixel_adm.set_index('MAP_ID', inplace = True)\n",
    "map_pixel_adm['w_knn_adm'] = 1 / map_pixel_adm.groupby('MAP_ID')['pixel_id'].count()\n",
    "map_pixel_adm.reset_index(inplace = True)"
   ]
  },
  {
   "cell_type": "code",
   "execution_count": null,
   "metadata": {},
   "outputs": [],
   "source": [
    "map_pixel_adm[['MAP_ID', 'pixel_id', 'w_knn_adm']].to_csv('./midsave/w_knn_adm.csv', index = False)"
   ]
  },
  {
   "cell_type": "markdown",
   "metadata": {},
   "source": [
    "# Calculate spatial weights from the inverse signal strength"
   ]
  },
  {
   "cell_type": "markdown",
   "metadata": {},
   "source": [
    "Load SIM card counts of the full year of 2013"
   ]
  },
  {
   "cell_type": "code",
   "execution_count": null,
   "metadata": {},
   "outputs": [],
   "source": [
    "map_pixel_adm = pd.read_csv('./midsave/w_knn_adm.csv').astype(\n",
    "        {'MAP_ID': 'uint16', 'pixel_id': 'uint32', 'w_knn_adm': 'float64'})"
   ]
  },
  {
   "cell_type": "code",
   "execution_count": null,
   "metadata": {},
   "outputs": [],
   "source": [
    "map_pixel_knn = pd.read_csv('./midsave/map_pixel_knn.csv').astype(\n",
    "        {'pixel_id': 'uint32', 'site_id': 'uint16', 'path_loss': 'float32'})"
   ]
  },
  {
   "cell_type": "code",
   "execution_count": null,
   "metadata": {},
   "outputs": [],
   "source": [
    "map_pixel_knn = map_pixel_knn[map_pixel_knn.pixel_id.isin(map_pixel_adm.pixel_id) == True]"
   ]
  },
  {
   "cell_type": "code",
   "execution_count": null,
   "metadata": {},
   "outputs": [],
   "source": [
    "map_pixel_knn['received_signal_strength'] = 45 - map_pixel_knn.path_loss"
   ]
  },
  {
   "cell_type": "code",
   "execution_count": null,
   "metadata": {},
   "outputs": [],
   "source": [
    "map_pixel_knn.head(3)"
   ]
  },
  {
   "cell_type": "markdown",
   "metadata": {},
   "source": [
    "Dropping all connections that are below RSSI -110"
   ]
  },
  {
   "cell_type": "code",
   "execution_count": null,
   "metadata": {},
   "outputs": [],
   "source": [
    "map_pixel_knn = map_pixel_knn[map_pixel_knn.received_signal_strength > -110]"
   ]
  },
  {
   "cell_type": "code",
   "execution_count": null,
   "metadata": {},
   "outputs": [],
   "source": [
    "map_pixel_knn.shape"
   ]
  },
  {
   "cell_type": "markdown",
   "metadata": {},
   "source": [
    "Implementing winner-takes-it-all aka. best server approach"
   ]
  },
  {
   "cell_type": "code",
   "execution_count": null,
   "metadata": {},
   "outputs": [],
   "source": [
    "map_pixel_knn.set_index('pixel_id', inplace = True)\n",
    "map_pixel_knn['w_best_ant'] = 0\n",
    "map_pixel_knn.loc[map_pixel_knn.groupby('pixel_id')['received_signal_strength'].transform(max) == map_pixel_knn.received_signal_strength, 'w_best_ant'] = 1\n",
    "map_pixel_knn.reset_index(inplace=True)"
   ]
  },
  {
   "cell_type": "code",
   "execution_count": null,
   "metadata": {},
   "outputs": [],
   "source": [
    "df = map_pixel_knn.groupby('pixel_id')['w_best_ant'].sum().reset_index()\n",
    "\n",
    "for i in df[df.w_best_ant > 1].pixel_id:\n",
    "    \n",
    "    if map_pixel_knn[map_pixel_knn.pixel_id == i].w_best_ant.sum() > 1:\n",
    "        \n",
    "        map_pixel_knn.loc[map_pixel_knn.pixel_id == i, 'w_best_ant'] = np.where(\n",
    "            map_pixel_knn[map_pixel_knn.pixel_id == i].w_best_ant == 1, 1/map_pixel_knn[map_pixel_knn.pixel_id == i].w_best_ant.sum(), 0)\n",
    "    \n",
    "    else:\n",
    "        continue"
   ]
  },
  {
   "cell_type": "code",
   "execution_count": null,
   "metadata": {},
   "outputs": [],
   "source": [
    "map_pixel_knn.tail(3)"
   ]
  },
  {
   "cell_type": "code",
   "execution_count": null,
   "metadata": {},
   "outputs": [],
   "source": [
    "map_pixel_knn.set_index('site_id', inplace = True)\n",
    "map_pixel_knn['w_best_ant_pop'] = map_pixel_knn.w_best_ant\n",
    "map_pixel_knn['w_best_ant_sum'] = map_pixel_knn.groupby('site_id')['w_best_ant_pop'].sum()\n",
    "map_pixel_knn['w_best_site'] = map_pixel_knn.w_best_ant_pop / map_pixel_knn.w_best_ant_sum # might cause issues when w_best_ant_sum is 0\n",
    "map_pixel_knn.reset_index(inplace=True)"
   ]
  },
  {
   "cell_type": "code",
   "execution_count": null,
   "metadata": {},
   "outputs": [],
   "source": [
    "map_pixel_knn.groupby('site_id')['w_best_site'].sum().describe()"
   ]
  },
  {
   "cell_type": "code",
   "execution_count": null,
   "metadata": {},
   "outputs": [],
   "source": [
    "map_pixel_knn = map_pixel_knn.drop(columns = {'w_best_ant_pop', 'w_best_ant_sum'})"
   ]
  },
  {
   "cell_type": "code",
   "execution_count": null,
   "metadata": {},
   "outputs": [],
   "source": [
    "gc.collect()"
   ]
  },
  {
   "cell_type": "markdown",
   "metadata": {},
   "source": [
    "Calculating inverse distance weights based on RSS measures."
   ]
  },
  {
   "cell_type": "code",
   "execution_count": null,
   "metadata": {},
   "outputs": [],
   "source": [
    "map_pixel_knn['received_signal_strength_inverted'] = 1 / (map_pixel_knn.received_signal_strength)**2"
   ]
  },
  {
   "cell_type": "code",
   "execution_count": null,
   "metadata": {},
   "outputs": [],
   "source": [
    "map_pixel_knn.set_index('pixel_id', inplace = True)\n",
    "map_pixel_knn['rss_sum_inv'] = map_pixel_knn.groupby('pixel_id')['received_signal_strength_inverted'].sum()\n",
    "map_pixel_knn['w_knn_ant'] = map_pixel_knn.received_signal_strength_inverted / map_pixel_knn.rss_sum_inv\n",
    "map_pixel_knn.reset_index(inplace=True)"
   ]
  },
  {
   "cell_type": "code",
   "execution_count": null,
   "metadata": {},
   "outputs": [],
   "source": [
    "map_pixel_knn.set_index('site_id', inplace = True)\n",
    "map_pixel_knn['w_knn_ant_pop'] = map_pixel_knn.w_knn_ant\n",
    "map_pixel_knn['w_knn_ant_sum'] = map_pixel_knn.groupby('site_id')['w_knn_ant_pop'].sum()\n",
    "map_pixel_knn['w_knn_site'] = map_pixel_knn.w_knn_ant_pop / map_pixel_knn.w_knn_ant_sum\n",
    "map_pixel_knn.reset_index(inplace=True)"
   ]
  },
  {
   "cell_type": "code",
   "execution_count": null,
   "metadata": {},
   "outputs": [],
   "source": [
    "map_pixel_knn = map_pixel_knn.drop(columns = {\n",
    "    'received_signal_strength', 'received_signal_strength_inverted', 'rss_sum_inv', 'w_knn_ant', 'w_knn_ant_pop', 'w_knn_ant_sum'})"
   ]
  },
  {
   "cell_type": "code",
   "execution_count": null,
   "metadata": {},
   "outputs": [],
   "source": [
    "gc.collect()"
   ]
  },
  {
   "cell_type": "code",
   "execution_count": null,
   "metadata": {},
   "outputs": [],
   "source": [
    "map_pixel_knn[['pixel_id', 'site_id', 'path_loss', 'w_best_site', 'w_knn_site']].to_csv('./midsave/w_knn.csv', index = False)"
   ]
  },
  {
   "cell_type": "markdown",
   "metadata": {},
   "source": [
    "# World Pop Grid"
   ]
  },
  {
   "cell_type": "markdown",
   "metadata": {},
   "source": [
    "Here I somehow need to introduce the World Pop grid!!! -> https://www.worldpop.org/geodata/summary?id=4683"
   ]
  },
  {
   "cell_type": "code",
   "execution_count": null,
   "metadata": {},
   "outputs": [],
   "source": [
    "with rasterio.open(file_wpg) as src:\n",
    "    print(src.profile)"
   ]
  },
  {
   "cell_type": "code",
   "execution_count": null,
   "metadata": {},
   "outputs": [],
   "source": [
    "ds = gdal.Open(file_wpg)\n",
    "gt = ds.GetGeoTransform()"
   ]
  },
  {
   "cell_type": "code",
   "execution_count": null,
   "metadata": {},
   "outputs": [],
   "source": [
    "results = []\n",
    "\n",
    "if __name__ == \"__main__\":\n",
    "    start_time = time.time()  \n",
    "    \n",
    "    pool = mp.Pool(processes=mp.cpu_count()-1)\n",
    "    [pool.apply_async(extract_grid_information, args=(file_wpg, x, ds.RasterYSize, 100), callback=collect_results) for x in range(0, ds.RasterXSize, 100)]\n",
    "    pool.close()\n",
    "    pool.join()\n",
    "    \n",
    "    map_grid = gpd.GeoDataFrame(results, columns = ['geometry', 'pop_per_grid'], crs = map_commune.crs).astype({'pop_per_grid' : 'float32'})\n",
    "    print(\"--- %s seconds ---\" % (time.time() - start_time))"
   ]
  },
  {
   "cell_type": "code",
   "execution_count": null,
   "metadata": {},
   "outputs": [],
   "source": [
    "map_grid.head(3)"
   ]
  },
  {
   "cell_type": "code",
   "execution_count": null,
   "metadata": {},
   "outputs": [],
   "source": [
    "map_grid.shape"
   ]
  },
  {
   "cell_type": "code",
   "execution_count": null,
   "metadata": {},
   "outputs": [],
   "source": [
    "map_grid.dtypes"
   ]
  },
  {
   "cell_type": "markdown",
   "metadata": {},
   "source": [
    "Create grid id"
   ]
  },
  {
   "cell_type": "code",
   "execution_count": null,
   "metadata": {},
   "outputs": [],
   "source": [
    "map_grid.insert(loc = 0, column='grid_id', value=list(range(len(map_grid))))"
   ]
  },
  {
   "cell_type": "code",
   "execution_count": null,
   "metadata": {},
   "outputs": [],
   "source": [
    "map_grid.dtypes"
   ]
  },
  {
   "cell_type": "code",
   "execution_count": null,
   "metadata": {},
   "outputs": [],
   "source": [
    "map_grid = gpd.GeoDataFrame(map_grid, crs=map_commune.crs)"
   ]
  },
  {
   "cell_type": "code",
   "execution_count": null,
   "metadata": {},
   "outputs": [],
   "source": [
    "map_grid[['grid_id', 'geometry']].to_file('./midsave/map_grid_nopop.shp')"
   ]
  },
  {
   "cell_type": "code",
   "execution_count": null,
   "metadata": {},
   "outputs": [],
   "source": [
    "map_grid[['grid_id', 'pop_per_grid']].to_csv('./midsave/map_grid_nogeo.csv')"
   ]
  },
  {
   "cell_type": "code",
   "execution_count": null,
   "metadata": {},
   "outputs": [],
   "source": [
    "map_grid[['grid_id', 'pop_per_grid', 'geometry']].to_file('./midsave/map_grid.shp')"
   ]
  },
  {
   "cell_type": "markdown",
   "metadata": {},
   "source": [
    "### 10-Nearest Neighbors Grid and Antennas"
   ]
  },
  {
   "cell_type": "code",
   "execution_count": null,
   "metadata": {},
   "outputs": [],
   "source": [
    "map_grid = gpd.read_file('./midsave/map_grid_nopop.shp')"
   ]
  },
  {
   "cell_type": "code",
   "execution_count": null,
   "metadata": {},
   "outputs": [],
   "source": [
    "map_grid.dtypes"
   ]
  },
  {
   "cell_type": "code",
   "execution_count": null,
   "metadata": {},
   "outputs": [],
   "source": [
    "map_grid = map_grid.to_crs({'init': 'epsg:31028'})"
   ]
  },
  {
   "cell_type": "code",
   "execution_count": null,
   "metadata": {},
   "outputs": [],
   "source": [
    "nA = np.array(list(zip(map_grid.geometry.x, map_grid.geometry.y)))"
   ]
  },
  {
   "cell_type": "code",
   "execution_count": null,
   "metadata": {},
   "outputs": [],
   "source": [
    "map_grid = map_grid.drop(columns = ['geometry'])"
   ]
  },
  {
   "cell_type": "code",
   "execution_count": null,
   "metadata": {},
   "outputs": [],
   "source": [
    "map_ant_points = map_ant_points.to_crs({'init': 'epsg:31028'})"
   ]
  },
  {
   "cell_type": "code",
   "execution_count": null,
   "metadata": {},
   "outputs": [],
   "source": [
    "nB = np.array(list(zip(map_ant_points.geometry.x, map_ant_points.geometry.y)))\n",
    "btree = spatial.cKDTree(nB)"
   ]
  },
  {
   "cell_type": "code",
   "execution_count": null,
   "metadata": {},
   "outputs": [],
   "source": [
    "map_grid_knn = pd.DataFrame(columns = ['grid_id', 'site_id', 'path_loss'])\n",
    "\n",
    "for i in tqdm(range(1,6)):\n",
    "    \n",
    "    # Calculate the k-nearest antennas to each pixel\n",
    "    dist, idx = btree.query(nA, k = [i])\n",
    "    temp = pd.concat(\n",
    "        [map_grid[['grid_id']], map_ant_points.loc[idx.flatten(), map_ant_points.columns != 'geometry'].reset_index(),\n",
    "         pd.Series(dist.flatten(), name = 'distance') / 10**3], axis = 1).drop(columns = ['index'])\n",
    "    \n",
    "    # Merge technical specifications of the antennas\n",
    "    temp = temp.merge(\n",
    "        ant_details[['site_id', 'antenna_height', 'settlement_type', 'frequency']], on = 'site_id', how = 'left').astype(\n",
    "        {'grid_id': 'uint32', 'site_id': 'uint16', 'antenna_height': 'uint8', 'frequency': 'uint16'})\n",
    "    \n",
    "    # Calculate the path loss between each pixel and antenna\n",
    "    temp['alpha'] = temp.apply(lambda row: alpha_value(row['frequency'], row['distance'], row['antenna_height']), axis = 1)\n",
    "    temp['path_loss'] = temp.apply(lambda row: calculate_path_loss_hata_novar(row['frequency'], row['settlement_type'], row['distance'], row['antenna_height'], 1, row['alpha']), axis = 1)\n",
    "\n",
    "    map_grid_knn = map_grid_knn.append(temp[['grid_id', 'site_id', 'path_loss']])\n",
    "    \n",
    "    gc.collect()"
   ]
  },
  {
   "cell_type": "code",
   "execution_count": null,
   "metadata": {},
   "outputs": [],
   "source": [
    "map_grid = None\n",
    "btree = None\n",
    "nA = None\n",
    "nB = None\n",
    "dist = None\n",
    "idx = None"
   ]
  },
  {
   "cell_type": "code",
   "execution_count": null,
   "metadata": {},
   "outputs": [],
   "source": [
    "gc.collect()"
   ]
  },
  {
   "cell_type": "code",
   "execution_count": null,
   "metadata": {},
   "outputs": [],
   "source": [
    "map_grid_knn.head(3)"
   ]
  },
  {
   "cell_type": "code",
   "execution_count": null,
   "metadata": {},
   "outputs": [],
   "source": [
    "map_grid_knn.to_csv('./midsave/map_grid_knn.csv', index = False)"
   ]
  },
  {
   "cell_type": "markdown",
   "metadata": {},
   "source": [
    "### Point-to-polygon allocation of pixels to administrative areas"
   ]
  },
  {
   "cell_type": "code",
   "execution_count": null,
   "metadata": {},
   "outputs": [],
   "source": [
    "map_grid = gpd.read_file('./midsave/map_grid_nopop.shp')"
   ]
  },
  {
   "cell_type": "code",
   "execution_count": null,
   "metadata": {},
   "outputs": [],
   "source": [
    "len(map_grid)"
   ]
  },
  {
   "cell_type": "code",
   "execution_count": null,
   "metadata": {},
   "outputs": [],
   "source": [
    "target = map_grid.shape[0]\n",
    "chunk = 10**6"
   ]
  },
  {
   "cell_type": "code",
   "execution_count": null,
   "metadata": {},
   "outputs": [],
   "source": [
    "map_grid_adm = pd.DataFrame()\n",
    "\n",
    "for i in tqdm(range(0, target, chunk)):\n",
    "    \n",
    "    tmp = map_grid[0:chunk]\n",
    "    \n",
    "    map_grid = map_grid[~map_grid['grid_id'].isin(tmp['grid_id'])]\n",
    "    \n",
    "    map_grid_adm = map_grid_adm.append(gpd.tools.sjoin(tmp, map_commune[['MAP_ID', 'geometry']], how=\"left\", op='intersects').drop(columns=['geometry', 'index_right']))"
   ]
  },
  {
   "cell_type": "code",
   "execution_count": null,
   "metadata": {},
   "outputs": [],
   "source": [
    "len(map_grid_adm)"
   ]
  },
  {
   "cell_type": "code",
   "execution_count": null,
   "metadata": {},
   "outputs": [],
   "source": [
    "len(map_grid)"
   ]
  },
  {
   "cell_type": "code",
   "execution_count": null,
   "metadata": {},
   "outputs": [],
   "source": [
    "len(map_grid_adm.MAP_ID.unique())"
   ]
  },
  {
   "cell_type": "code",
   "execution_count": null,
   "metadata": {},
   "outputs": [],
   "source": [
    "gc.collect()"
   ]
  },
  {
   "cell_type": "markdown",
   "metadata": {},
   "source": [
    "Some pixels have been allocated to more than one commune"
   ]
  },
  {
   "cell_type": "code",
   "execution_count": null,
   "metadata": {},
   "outputs": [],
   "source": [
    "map_grid_adm.drop_duplicates(subset = 'grid_id', keep = False, inplace = True)"
   ]
  },
  {
   "cell_type": "markdown",
   "metadata": {},
   "source": [
    "Some pixels lay outside the country borders. Drop them."
   ]
  },
  {
   "cell_type": "code",
   "execution_count": null,
   "metadata": {},
   "outputs": [],
   "source": [
    "len(map_grid_adm)"
   ]
  },
  {
   "cell_type": "code",
   "execution_count": null,
   "metadata": {},
   "outputs": [],
   "source": [
    "map_grid_adm = map_grid_adm.dropna()"
   ]
  },
  {
   "cell_type": "code",
   "execution_count": null,
   "metadata": {},
   "outputs": [],
   "source": [
    "len(map_grid_adm)"
   ]
  },
  {
   "cell_type": "code",
   "execution_count": null,
   "metadata": {},
   "outputs": [],
   "source": [
    "len(map_grid_adm.MAP_ID.unique())"
   ]
  },
  {
   "cell_type": "code",
   "execution_count": null,
   "metadata": {},
   "outputs": [],
   "source": [
    "map_grid_nogeo = pd.read_csv('./midsave/map_grid_nogeo.csv')"
   ]
  },
  {
   "cell_type": "code",
   "execution_count": null,
   "metadata": {},
   "outputs": [],
   "source": [
    "map_grid_adm = map_grid_adm.merge(map_grid_nogeo, on = 'grid_id', how = 'left')"
   ]
  },
  {
   "cell_type": "code",
   "execution_count": null,
   "metadata": {},
   "outputs": [],
   "source": [
    "map_grid_adm[['MAP_ID', 'grid_id', 'pop_per_grid']].to_csv('./midsave/w_grid_adm.csv', index = False)\n",
    "map_grid_adm[['MAP_ID', 'grid_id', 'pop_per_grid']].to_csv('./midsave/dem_proj_grid.csv', index = False)"
   ]
  },
  {
   "cell_type": "markdown",
   "metadata": {},
   "source": [
    "# Compute spatial weights from grid"
   ]
  },
  {
   "cell_type": "code",
   "execution_count": null,
   "metadata": {},
   "outputs": [],
   "source": [
    "map_grid_adm = pd.read_csv('./midsave/w_grid_adm.csv').astype(\n",
    "        {'MAP_ID': 'uint16', 'grid_id': 'uint32', 'pop_per_grid': 'float64'})"
   ]
  },
  {
   "cell_type": "code",
   "execution_count": null,
   "metadata": {},
   "outputs": [],
   "source": [
    "map_grid_knn = pd.read_csv('./midsave/map_grid_knn.csv').astype(\n",
    "        {'grid_id': 'uint32', 'site_id': 'uint16', 'path_loss': 'float32'})"
   ]
  },
  {
   "cell_type": "code",
   "execution_count": null,
   "metadata": {},
   "outputs": [],
   "source": [
    "map_grid_knn = map_grid_knn[map_grid_knn.grid_id.isin(map_grid_adm.grid_id) == True]"
   ]
  },
  {
   "cell_type": "code",
   "execution_count": null,
   "metadata": {},
   "outputs": [],
   "source": [
    "map_grid_knn = map_grid_knn.merge(map_grid_adm[['MAP_ID', 'grid_id', 'pop_per_grid']], on = 'grid_id', how = 'left')"
   ]
  },
  {
   "cell_type": "code",
   "execution_count": null,
   "metadata": {},
   "outputs": [],
   "source": [
    "map_grid_knn['received_signal_strength'] = 45 - map_grid_knn.path_loss"
   ]
  },
  {
   "cell_type": "markdown",
   "metadata": {},
   "source": [
    "Dropping all connections that are below RSSI -110"
   ]
  },
  {
   "cell_type": "code",
   "execution_count": null,
   "metadata": {},
   "outputs": [],
   "source": [
    "map_grid_knn = map_grid_knn[map_grid_knn.received_signal_strength > -110]"
   ]
  },
  {
   "cell_type": "markdown",
   "metadata": {},
   "source": [
    "Implementing winner-takes-it-all aka. best server approach"
   ]
  },
  {
   "cell_type": "code",
   "execution_count": null,
   "metadata": {},
   "outputs": [],
   "source": [
    "map_grid_knn.set_index('grid_id', inplace = True)\n",
    "map_grid_knn['w_best_ant'] = 0\n",
    "map_grid_knn.loc[map_grid_knn.groupby('grid_id')['received_signal_strength'].transform(max) == map_grid_knn.received_signal_strength, 'w_best_ant'] = 1\n",
    "map_grid_knn.reset_index(inplace=True)"
   ]
  },
  {
   "cell_type": "code",
   "execution_count": null,
   "metadata": {},
   "outputs": [],
   "source": [
    "df = map_grid_knn.groupby('grid_id')['w_best_ant'].sum().reset_index()"
   ]
  },
  {
   "cell_type": "code",
   "execution_count": null,
   "metadata": {},
   "outputs": [],
   "source": [
    "for i in df[df.w_best_ant > 1].grid_id:\n",
    "    \n",
    "    if map_grid_knn[map_grid_knn.grid_id == i].w_best_ant.sum() > 1:\n",
    "        \n",
    "        map_grid_knn.loc[map_grid_knn.grid_id == i, 'w_best_ant'] = np.where(\n",
    "            map_grid_knn[map_grid_knn.grid_id == i].w_best_ant == 1, 1/map_grid_knn[map_grid_knn.grid_id == i].w_best_ant.sum(), 0)\n",
    "    \n",
    "    else:\n",
    "        continue"
   ]
  },
  {
   "cell_type": "code",
   "execution_count": null,
   "metadata": {},
   "outputs": [],
   "source": [
    "map_grid_knn.set_index('site_id', inplace = True)\n",
    "map_grid_knn['w_best_ant_pop'] = map_grid_knn.w_best_ant\n",
    "map_grid_knn['w_best_ant_sum'] = map_grid_knn.groupby('site_id')['w_best_ant_pop'].sum()\n",
    "map_grid_knn['w_best_site'] = map_grid_knn.w_best_ant_pop / map_grid_knn.w_best_ant_sum # might cause issues when w_best_ant_sum is 0\n",
    "map_grid_knn.reset_index(inplace=True)"
   ]
  },
  {
   "cell_type": "code",
   "execution_count": null,
   "metadata": {},
   "outputs": [],
   "source": [
    "map_grid_knn.groupby('site_id')['w_best_site'].sum().describe()"
   ]
  },
  {
   "cell_type": "code",
   "execution_count": null,
   "metadata": {},
   "outputs": [],
   "source": [
    "map_grid_knn = map_grid_knn.drop(columns = {'w_best_ant_pop', 'w_best_ant_sum'})"
   ]
  },
  {
   "cell_type": "code",
   "execution_count": null,
   "metadata": {},
   "outputs": [],
   "source": [
    "gc.collect()"
   ]
  },
  {
   "cell_type": "markdown",
   "metadata": {},
   "source": [
    "Calculating inverse distance weights based on RSS measures."
   ]
  },
  {
   "cell_type": "code",
   "execution_count": null,
   "metadata": {},
   "outputs": [],
   "source": [
    "map_grid_knn['received_signal_strength_inverted'] = 1 / (map_grid_knn.received_signal_strength)**2"
   ]
  },
  {
   "cell_type": "code",
   "execution_count": null,
   "metadata": {},
   "outputs": [],
   "source": [
    "map_grid_knn.set_index('grid_id', inplace = True)\n",
    "map_grid_knn['rss_sum_inv'] = map_grid_knn.groupby('grid_id')['received_signal_strength_inverted'].sum()\n",
    "map_grid_knn['w_knn_ant'] = map_grid_knn.received_signal_strength_inverted / map_grid_knn.rss_sum_inv\n",
    "map_grid_knn.reset_index(inplace=True)"
   ]
  },
  {
   "cell_type": "code",
   "execution_count": null,
   "metadata": {},
   "outputs": [],
   "source": [
    "map_grid_knn.set_index('site_id', inplace = True)\n",
    "map_grid_knn['w_knn_ant_pop'] = map_grid_knn.w_knn_ant\n",
    "map_grid_knn['w_knn_ant_sum'] = map_grid_knn.groupby('site_id')['w_knn_ant_pop'].sum()\n",
    "map_grid_knn['w_knn_site'] = map_grid_knn.w_knn_ant_pop / map_grid_knn.w_knn_ant_sum\n",
    "map_grid_knn.reset_index(inplace=True)"
   ]
  },
  {
   "cell_type": "code",
   "execution_count": null,
   "metadata": {},
   "outputs": [],
   "source": [
    "map_grid_knn = map_grid_knn.drop(columns = {\n",
    "    'received_signal_strength', 'received_signal_strength_inverted', 'rss_sum_inv', 'w_knn_ant', 'w_knn_ant_pop', 'w_knn_ant_sum'})"
   ]
  },
  {
   "cell_type": "code",
   "execution_count": null,
   "metadata": {},
   "outputs": [],
   "source": [
    "gc.collect()"
   ]
  },
  {
   "cell_type": "code",
   "execution_count": null,
   "metadata": {},
   "outputs": [],
   "source": [
    "map_grid_knn[['grid_id', 'site_id', 'path_loss', 'w_best_site', 'w_knn_site']].to_csv('./midsave/w_grid.csv', index = False)"
   ]
  }
 ],
 "metadata": {
  "kernelspec": {
   "display_name": "Python 3",
   "language": "python",
   "name": "python3"
  },
  "language_info": {
   "codemirror_mode": {
    "name": "ipython",
    "version": 3
   },
   "file_extension": ".py",
   "mimetype": "text/x-python",
   "name": "python",
   "nbconvert_exporter": "python",
   "pygments_lexer": "ipython3",
   "version": "3.7.3"
  }
 },
 "nbformat": 4,
 "nbformat_minor": 2
}
