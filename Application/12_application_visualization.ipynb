{
 "cells": [
  {
   "cell_type": "markdown",
   "metadata": {},
   "source": [
    "# Visualization of application results"
   ]
  },
  {
   "cell_type": "code",
   "execution_count": null,
   "metadata": {},
   "outputs": [],
   "source": [
    "import numpy as np\n",
    "import pandas as pd\n",
    "import geopandas as gpd\n",
    "import matplotlib\n",
    "import matplotlib.pyplot as plt\n",
    "import seaborn as sns\n",
    "import palettable\n",
    "import math\n",
    "from tqdm import tqdm\n",
    "from sklearn.linear_model import LinearRegression"
   ]
  },
  {
   "cell_type": "markdown",
   "metadata": {},
   "source": [
    "# Read data"
   ]
  },
  {
   "cell_type": "code",
   "execution_count": null,
   "metadata": {},
   "outputs": [],
   "source": [
    "sim_selection_point = pd.read_csv('./midsave/simulation_selection_popcount.csv').rename(\n",
    "    columns = {'Rsquared' : 'r2', 'adj.Rsquared' : 'ar2', 'OOC' : 'ooc'})\n",
    "sim_prediction_point_raw = pd.read_csv('./midsave/simulation_prediction_popcount.csv').rename(\n",
    "    columns = {'com' : 'MAP_ID'})\n",
    "map_commune = gpd.read_file('./midsave/map_commune.shp')\n",
    "map_urbanity = gpd.read_file('./midsave/map_urbanity.shp')"
   ]
  },
  {
   "cell_type": "code",
   "execution_count": null,
   "metadata": {},
   "outputs": [],
   "source": [
    "sim_prediction_point_raw.shape"
   ]
  },
  {
   "cell_type": "code",
   "execution_count": null,
   "metadata": {},
   "outputs": [],
   "source": [
    "sim_prediction_point_raw['MAP_ID'] = sim_prediction_point_raw['MAP_ID'] - 1"
   ]
  },
  {
   "cell_type": "markdown",
   "metadata": {},
   "source": [
    "### Performance measures"
   ]
  },
  {
   "cell_type": "code",
   "execution_count": null,
   "metadata": {},
   "outputs": [],
   "source": [
    "sim_prediction_point_raw['bias'] = sim_prediction_point_raw['pred'] - sim_prediction_point_raw['true']\n",
    "sim_prediction_point_raw['bias_benchmark'] = sim_prediction_point_raw['smpl'] - sim_prediction_point_raw['true']\n",
    "sim_prediction_point_raw['rmse'] = (sim_prediction_point_raw['pred'] - sim_prediction_point_raw['true'])**2\n",
    "sim_prediction_point_raw['rmse_benchmark'] = (sim_prediction_point_raw['smpl'] - sim_prediction_point_raw['true'])**2"
   ]
  },
  {
   "cell_type": "markdown",
   "metadata": {},
   "source": [
    "### Select urban/rural"
   ]
  },
  {
   "cell_type": "code",
   "execution_count": null,
   "metadata": {},
   "outputs": [],
   "source": [
    "sim_prediction_point_raw = sim_prediction_point_raw.merge(map_commune[['MAP_ID', 'STATUT']], on = 'MAP_ID', how = 'left')"
   ]
  },
  {
   "cell_type": "markdown",
   "metadata": {},
   "source": [
    "### Correlation"
   ]
  },
  {
   "cell_type": "code",
   "execution_count": null,
   "metadata": {},
   "outputs": [],
   "source": [
    "sim_prediction_point_correlation = pd.DataFrame({'Model' : (sim_prediction_point_raw.groupby('model')['pred', 'true'].corr()).reset_index().iloc[[1,3,5,7,9,11,13,15], 0], #47\n",
    "              'Corr' : np.round((sim_prediction_point_raw.groupby('model')['pred', 'true'].corr()).reset_index().iloc[[1,3,5,7,9,11,13,15], 2], decimals = 3),  #47\n",
    "              'Corr_In' : np.round((sim_prediction_point_raw.loc[(sim_prediction_point_raw['type'] == 'in')].groupby('model')['pred', 'true'].corr()).reset_index().iloc[[1,3,5,7,9,11,13,15], 2], decimals = 3), #47\n",
    "              'Corr_Out' : np.round((sim_prediction_point_raw.loc[(sim_prediction_point_raw['type'] == 'out')].groupby('model')['pred', 'true'].corr()).reset_index().iloc[[1,3,5,7,9,11,13,15], 2], decimals = 3), #47\n",
    "              'Corr_Kriged' : np.round((sim_prediction_point_raw.loc[(sim_prediction_point_raw['type'] == 'kriged')].groupby('model')['pred', 'true'].corr()).reset_index().iloc[[1,3,5,7], 2], decimals = 3) #23\n",
    "             })"
   ]
  },
  {
   "cell_type": "markdown",
   "metadata": {},
   "source": [
    "### Sample size"
   ]
  },
  {
   "cell_type": "code",
   "execution_count": null,
   "metadata": {},
   "outputs": [],
   "source": [
    "sim_prediction_point_n = pd.DataFrame({'N' : ((sim_prediction_point_raw.groupby('model')['pred'].count().rename('n'))/500).astype('uint16'),\n",
    "              'N_In' : np.round((sim_prediction_point_raw[sim_prediction_point_raw['type'] == 'in'].groupby('model')['pred'].count())/500, decimals = 0).astype('uint16'),\n",
    "              'N_Out' : np.round((sim_prediction_point_raw[sim_prediction_point_raw['type'] == 'out'].groupby('model')['pred'].count())/500, decimals = 0).astype('uint16'),\n",
    "              'N_Kriged' : np.round((sim_prediction_point_raw[sim_prediction_point_raw['type'] == 'kriged'].groupby('model')['pred'].count())/500, decimals = 0).astype('uint16')\n",
    "             })"
   ]
  },
  {
   "cell_type": "code",
   "execution_count": null,
   "metadata": {},
   "outputs": [],
   "source": [
    "sim_prediction_point_correlation.sort_values(by=['Corr_Out'])"
   ]
  },
  {
   "cell_type": "code",
   "execution_count": null,
   "metadata": {},
   "outputs": [],
   "source": [
    "sim_prediction_point_correlation.to_latex()"
   ]
  },
  {
   "cell_type": "code",
   "execution_count": null,
   "metadata": {},
   "outputs": [],
   "source": [
    "sim_prediction_point_n"
   ]
  },
  {
   "cell_type": "code",
   "execution_count": null,
   "metadata": {},
   "outputs": [],
   "source": [
    "sim_prediction_point_n.to_latex()"
   ]
  },
  {
   "cell_type": "markdown",
   "metadata": {},
   "source": [
    "### Correlation by urban status"
   ]
  },
  {
   "cell_type": "code",
   "execution_count": null,
   "metadata": {},
   "outputs": [],
   "source": [
    "plt.subplots(1, figsize=(10, 10))\n",
    "\n",
    "ax = sns.scatterplot(x=\"true\", y=\"pred\", \n",
    "              hue=\"STATUT\",\n",
    "              data=sim_prediction_point_raw.loc[(sim_prediction_point_raw['run'] == 200) & (sim_prediction_point_raw['model'] == 'point_nocount') ],\n",
    "                palette = 'rocket',\n",
    "                s = 100,\n",
    "                legend = 'full')\n",
    "\n",
    "sns.despine()\n",
    "\n",
    "ax.set_xlim([-0.01, 1.01])\n",
    "ax.set_ylim([-0.01, 1.01])\n",
    "ax.set_xticks([0.2, 0.4, 0.6, 0.8, 1])\n",
    "ax.set_yticks([0.2, 0.4, 0.6, 0.8, 1])\n",
    "\n",
    "plt.xlabel('True unemployment rate', fontsize = 14)\n",
    "plt.ylabel('Estimated unemployment rate', fontsize = 14)\n",
    "ax.tick_params(axis='both', which='major', labelsize=14)\n",
    "\n",
    "plt.plot([0, 0.8], [0, 0.8], linewidth=1, c = \"black\")\n",
    "\n",
    "legend_labels, _= ax.get_legend_handles_labels()\n",
    "plt.legend(legend_labels, ['','Rural', 'Urban'], title='Commune Status', loc='upper right', frameon=False, fontsize = 14, title_fontsize = 14)\n",
    "\n",
    "plt.savefig('./Replication/data/Outputs/application_worknoold_scatter_by_urbanity.png', transparent=False, pad_inches=0)\n",
    "\n",
    "plt.show()\n"
   ]
  },
  {
   "cell_type": "code",
   "execution_count": null,
   "metadata": {},
   "outputs": [],
   "source": [
    "sim_prediction_point_correlation_urban = pd.DataFrame({'Model' : (sim_prediction_point_raw.groupby('model')['pred', 'true'].corr()).reset_index().iloc[[1,3,5,7,9,11,13,15], 0],\n",
    "              'Corr' : np.round((sim_prediction_point_raw.groupby('model')['pred', 'true'].corr()).reset_index().iloc[[1,3,5,7,9,11,13,15], 2], decimals = 3),\n",
    "              'Corr_Rural' : np.round((sim_prediction_point_raw.loc[(sim_prediction_point_raw['STATUT'] == 'CR')].groupby('model')['pred', 'true'].corr()).reset_index().iloc[[1,3,5,7,9,11,13,15], 2], decimals = 3),\n",
    "              'Corr_Urban' : np.round((sim_prediction_point_raw.loc[(sim_prediction_point_raw['STATUT'] == 'CA')].groupby('model')['pred', 'true'].corr()).reset_index().iloc[[1,3,5,7,9,11,13,15], 2], decimals = 3)\n",
    "             })"
   ]
  },
  {
   "cell_type": "code",
   "execution_count": null,
   "metadata": {},
   "outputs": [],
   "source": [
    "sim_prediction_point_correlation_urban.to_latex()"
   ]
  },
  {
   "cell_type": "code",
   "execution_count": null,
   "metadata": {},
   "outputs": [],
   "source": [
    "sim_prediction_point_n_urban = pd.DataFrame({'N' : ((sim_prediction_point_raw.groupby('model')['pred'].count().rename('n'))/500).astype('uint16'),\n",
    "              'N_Rural' : np.round((sim_prediction_point_raw[sim_prediction_point_raw['STATUT'] == 'CR'].groupby('model')['pred'].count())/500, decimals = 0).astype('uint16'),\n",
    "              'N_Urban' : np.round((sim_prediction_point_raw[sim_prediction_point_raw['STATUT'] == 'CA'].groupby('model')['pred'].count())/500, decimals = 0).astype('uint16')\n",
    "             })"
   ]
  },
  {
   "cell_type": "code",
   "execution_count": null,
   "metadata": {},
   "outputs": [],
   "source": [
    "sim_prediction_point_n_urban"
   ]
  },
  {
   "cell_type": "markdown",
   "metadata": {},
   "source": [
    "# Prediction performance"
   ]
  },
  {
   "cell_type": "markdown",
   "metadata": {},
   "source": [
    "### Ranking"
   ]
  },
  {
   "cell_type": "markdown",
   "metadata": {},
   "source": [
    "adj.R²"
   ]
  },
  {
   "cell_type": "code",
   "execution_count": null,
   "metadata": {},
   "outputs": [],
   "source": [
    "sim_selection_point_rank = sim_selection_point[(sim_selection_point['model'] == 'point_nocount')\n",
    "                    |(sim_selection_point['model'] == 'voronoi_nocount')\n",
    "                    |(sim_selection_point['model'] == 'augvoronoi_nocount')\n",
    "                    |(sim_selection_point['model'] == 'overlap_best_nocount')\n",
    "                    |(sim_selection_point['model'] == 'overlap_knn_nocount')\n",
    "                    |(sim_selection_point['model'] == 'wpgvoronoi_nocount')\n",
    "                    |(sim_selection_point['model'] == 'wpg_overlap_best_nocount')\n",
    "                    |(sim_selection_point['model'] == 'wpg_overlap_knn_nocount')].copy()"
   ]
  },
  {
   "cell_type": "code",
   "execution_count": null,
   "metadata": {},
   "outputs": [],
   "source": [
    "sim_selection_point_rank['best_ar2'] = 0\n",
    "sim_selection_point_rank.loc[sim_selection_point_rank.groupby('run')['ar2'].transform(max) == sim_selection_point_rank.ar2, 'best_ar2'] = 1"
   ]
  },
  {
   "cell_type": "code",
   "execution_count": null,
   "metadata": {},
   "outputs": [],
   "source": [
    "sim_selection_point_rank.groupby('model')['best_ar2'].mean().reset_index().sort_values(by=['best_ar2'])"
   ]
  },
  {
   "cell_type": "code",
   "execution_count": null,
   "metadata": {},
   "outputs": [],
   "source": [
    "sim_selection_point_rank.groupby('model')['best_ar2'].mean().reset_index().sort_values(by=['best_ar2']).to_latex()"
   ]
  },
  {
   "cell_type": "markdown",
   "metadata": {},
   "source": [
    "Bias"
   ]
  },
  {
   "cell_type": "code",
   "execution_count": null,
   "metadata": {},
   "outputs": [],
   "source": [
    "sim_prediction_point_rank = sim_prediction_point_raw[(sim_prediction_point_raw['model'] == 'point_nocount')\n",
    "                    |(sim_prediction_point_raw['model'] == 'voronoi_nocount')\n",
    "                    |(sim_prediction_point_raw['model'] == 'augvoronoi_nocount')\n",
    "                    |(sim_prediction_point_raw['model'] == 'overlap_best_nocount')\n",
    "                    |(sim_prediction_point_raw['model'] == 'overlap_knn_nocount')\n",
    "                    |(sim_prediction_point_raw['model'] == 'wpgvoronoi_nocount')\n",
    "                    |(sim_prediction_point_raw['model'] == 'wpg_overlap_best_nocount')\n",
    "                    |(sim_prediction_point_raw['model'] == 'wpg_overlap_knn_nocount')]"
   ]
  },
  {
   "cell_type": "code",
   "execution_count": null,
   "metadata": {},
   "outputs": [],
   "source": [
    "sim_prediction_point_rank = sim_prediction_point_rank.groupby(['model', 'run', 'type'])[['bias', 'rmse']].mean().reset_index()"
   ]
  },
  {
   "cell_type": "code",
   "execution_count": null,
   "metadata": {},
   "outputs": [],
   "source": [
    "sim_prediction_point_rank['bias'] = abs(sim_prediction_point_rank['bias'])\n",
    "sim_prediction_point_rank['rmse'] = np.sqrt(sim_prediction_point_rank['rmse'])"
   ]
  },
  {
   "cell_type": "code",
   "execution_count": null,
   "metadata": {},
   "outputs": [],
   "source": [
    "sim_prediction_point_rank['best_bias'] = 0\n",
    "sim_prediction_point_rank.loc[sim_prediction_point_rank.groupby(['type', 'run'])['bias'].transform(min) == sim_prediction_point_rank.bias, 'best_bias'] = 1"
   ]
  },
  {
   "cell_type": "code",
   "execution_count": null,
   "metadata": {},
   "outputs": [],
   "source": [
    "sim_prediction_point_rank.groupby(['type','model'])['best_bias'].mean().reset_index().sort_values(by=['type','best_bias']).to_latex()"
   ]
  },
  {
   "cell_type": "markdown",
   "metadata": {},
   "source": [
    "RMSE"
   ]
  },
  {
   "cell_type": "code",
   "execution_count": null,
   "metadata": {},
   "outputs": [],
   "source": [
    "sim_prediction_point_rank['best_rmse'] = 0\n",
    "sim_prediction_point_rank.loc[sim_prediction_point_rank.groupby(['type', 'run'])['rmse'].transform(min) == sim_prediction_point_rank.rmse, 'best_rmse'] = 1"
   ]
  },
  {
   "cell_type": "code",
   "execution_count": null,
   "metadata": {},
   "outputs": [],
   "source": [
    "sim_prediction_point_rank.groupby(['type','model'])['best_rmse'].mean().reset_index().sort_values(by=['type','best_rmse']).to_latex()"
   ]
  },
  {
   "cell_type": "markdown",
   "metadata": {},
   "source": [
    "Number of predictors"
   ]
  },
  {
   "cell_type": "code",
   "execution_count": null,
   "metadata": {},
   "outputs": [],
   "source": [
    "sim_selection_point_rank.groupby('model')['n_pred'].mean().reset_index().sort_values(by=['n_pred']).to_latex()"
   ]
  },
  {
   "cell_type": "markdown",
   "metadata": {},
   "source": [
    "### In-Sample"
   ]
  },
  {
   "cell_type": "code",
   "execution_count": null,
   "metadata": {},
   "outputs": [],
   "source": [
    "sim_prediction_point = sim_prediction_point_raw[sim_prediction_point_raw['type'] == 'in'].copy()"
   ]
  },
  {
   "cell_type": "code",
   "execution_count": null,
   "metadata": {},
   "outputs": [],
   "source": [
    "sim_selection_point.loc[sim_selection_point['model'] == 'point_nocount', 'ar2'].shape"
   ]
  },
  {
   "cell_type": "markdown",
   "metadata": {},
   "source": [
    "R²"
   ]
  },
  {
   "cell_type": "code",
   "execution_count": null,
   "metadata": {},
   "outputs": [],
   "source": [
    "f, ax = plt.subplots(1, figsize=(15, 5))\n",
    "sns.boxplot(data = pd.DataFrame({\n",
    "                                 'Point-to-Polygon' : sim_selection_point.loc[sim_selection_point['model'] == 'point_nocount', 'ar2'],\n",
    "                                 'Voronoi' : sim_selection_point.loc[sim_selection_point['model'] == 'voronoi_nocount', 'ar2'],\n",
    "                                 'Augmented \\n Voronoi (GUF)' : sim_selection_point.loc[sim_selection_point['model'] == 'augvoronoi_nocount', 'ar2'],\n",
    "                                 'Simple HATA \\n (BSA, GUF)' : sim_selection_point.loc[sim_selection_point['model'] == 'overlap_best_nocount', 'ar2'],\n",
    "                                 'Simple HATA \\n (IDW, GUF)' : sim_selection_point.loc[sim_selection_point['model'] == 'overlap_knn_nocount', 'ar2'],\n",
    "                                 'Augmented \\n Voronoi (WPG)' : sim_selection_point.loc[sim_selection_point['model'] == 'wpgvoronoi_nocount', 'ar2'],\n",
    "                                 'Simple HATA \\n (BSA, WPG)' : sim_selection_point.loc[sim_selection_point['model'] == 'wpg_overlap_best_nocount', 'ar2'],\n",
    "                                 'Simple HATA \\n (IDW, WPG)' : sim_selection_point.loc[sim_selection_point['model'] == 'wpg_overlap_knn_nocount', 'ar2'],\n",
    "                                }),\n",
    "            palette = 'rocket')\n",
    "\n",
    "#ax.set(ylim=(0, 1))\n",
    "ax.tick_params(labelsize=14)\n",
    "\n",
    "plt.savefig('./Replication/data/Outputs/application_boxplot_ar2_in_worknoold_wpg.png', transparent=False, pad_inches=0)\n",
    "\n",
    "plt.show()"
   ]
  },
  {
   "cell_type": "markdown",
   "metadata": {},
   "source": [
    "Bias"
   ]
  },
  {
   "cell_type": "code",
   "execution_count": null,
   "metadata": {},
   "outputs": [],
   "source": [
    "f, ax = plt.subplots(1, figsize=(15, 5))\n",
    "sns.boxplot(data = pd.DataFrame({\n",
    "                                 'Direct' : sim_prediction_point.groupby('run')['bias_benchmark'].mean(),\n",
    "                                 'Point-to-Polygon' : sim_prediction_point[sim_prediction_point['model'] == 'point_nocount'].groupby('run')['bias'].mean(),\n",
    "                                 'Voronoi' : sim_prediction_point[sim_prediction_point['model'] == 'voronoi_nocount'].groupby('run')['bias'].mean(),\n",
    "                                 'Augmented \\n Voronoi (GUF)' : sim_prediction_point[sim_prediction_point['model'] == 'augvoronoi_nocount'].groupby('run')['bias'].mean(),\n",
    "                                 'Simple HATA \\n (BSA, GUF)' : sim_prediction_point[sim_prediction_point['model'] == 'overlap_best_nocount'].groupby('run')['bias'].mean(),\n",
    "                                 'Simple HATA \\n (IDW, GUF)' : sim_prediction_point[sim_prediction_point['model'] == 'overlap_knn_nocount'].groupby('run')['bias'].mean(),\n",
    "                                 'Augmented \\n Voronoi (WPG)' : sim_prediction_point[sim_prediction_point['model'] == 'wpgvoronoi_nocount'].groupby('MAP_ID')['bias'].mean(),\n",
    "                                 'Simple HATA \\n (BSA, WPG)' : sim_prediction_point[sim_prediction_point['model'] == 'wpg_overlap_best_nocount'].groupby('MAP_ID')['bias'].mean(),\n",
    "                                 'Simple HATA \\n (IDW, WPG)' : sim_prediction_point[sim_prediction_point['model'] == 'wpg_overlap_knn_nocount'].groupby('MAP_ID')['bias'].mean(),\n",
    "                                }),\n",
    "            palette = 'rocket')\n",
    "\n",
    "#ax.set(ylim=(0, 1))\n",
    "ax.tick_params(labelsize=14)\n",
    "\n",
    "plt.savefig('./Replication/data/Outputs/application_boxplot_bias_in_worknoold_wpg.png', transparent=False, pad_inches=0)\n",
    "\n",
    "plt.show()"
   ]
  },
  {
   "cell_type": "markdown",
   "metadata": {},
   "source": [
    "RMSE"
   ]
  },
  {
   "cell_type": "code",
   "execution_count": null,
   "metadata": {},
   "outputs": [],
   "source": [
    "f, ax = plt.subplots(1, figsize=(15, 5))\n",
    "sns.boxplot(data = pd.DataFrame({'Direct' : np.sqrt(sim_prediction_point.groupby('run')['rmse_benchmark'].mean()),\n",
    "                                 'Point-to-Polygon' : np.sqrt(sim_prediction_point[sim_prediction_point['model'] == 'point_nocount'].groupby('run')['rmse'].mean()),\n",
    "                                 'Voronoi' : np.sqrt(sim_prediction_point[sim_prediction_point['model'] == 'voronoi_nocount'].groupby('run')['rmse'].mean()),\n",
    "                                 'Augmented \\n Voronoi (GUF)' : np.sqrt(sim_prediction_point[sim_prediction_point['model'] == 'augvoronoi_nocount'].groupby('run')['rmse'].mean()),\n",
    "                                 'Simple HATA \\n (BSA, GUF)' : np.sqrt(sim_prediction_point[sim_prediction_point['model'] == 'overlap_best_nocount'].groupby('run')['rmse'].mean()),\n",
    "                                 'Simple HATA \\n (IDW, GUF)' : np.sqrt(sim_prediction_point[sim_prediction_point['model'] == 'overlap_knn_nocount'].groupby('run')['rmse'].mean()),\n",
    "                                 'Augmented \\n Voronoi (WPG)' : np.sqrt(sim_prediction_point[sim_prediction_point['model'] == 'wpgvoronoi_nocount'].groupby('MAP_ID')['rmse'].mean()),\n",
    "                                 'Simple HATA \\n (BSA, WPG)' : np.sqrt(sim_prediction_point[sim_prediction_point['model'] == 'wpg_overlap_best_nocount'].groupby('MAP_ID')['rmse'].mean()),\n",
    "                                 'Simple HATA \\n (IDW, WPG)' : np.sqrt(sim_prediction_point[sim_prediction_point['model'] == 'wpg_overlap_knn_nocount'].groupby('MAP_ID')['rmse'].mean()),\n",
    "                                }),\n",
    "            palette = 'rocket')\n",
    "\n",
    "#ax.set(ylim=(0, 1))\n",
    "ax.tick_params(labelsize=14)\n",
    "\n",
    "plt.savefig('./Replication/data/Outputs/application_boxplot_rmse_in_worknoold_wpg.png', transparent=False, pad_inches=0)\n",
    "\n",
    "plt.show()"
   ]
  },
  {
   "cell_type": "markdown",
   "metadata": {},
   "source": [
    "### OOS"
   ]
  },
  {
   "cell_type": "code",
   "execution_count": null,
   "metadata": {},
   "outputs": [],
   "source": [
    "sim_prediction_point = sim_prediction_point_raw[sim_prediction_point_raw['type'] == 'out']"
   ]
  },
  {
   "cell_type": "markdown",
   "metadata": {},
   "source": [
    "Bias"
   ]
  },
  {
   "cell_type": "code",
   "execution_count": null,
   "metadata": {},
   "outputs": [],
   "source": [
    "f, ax = plt.subplots(1, figsize=(15, 5))\n",
    "sns.boxplot(data = pd.DataFrame({'Point-to-Polygon' : sim_prediction_point[sim_prediction_point['model'] == 'point_nocount'].groupby('run')['bias'].mean(),\n",
    "                                 'Voronoi' : sim_prediction_point[sim_prediction_point['model'] == 'voronoi_nocount'].groupby('run')['bias'].mean(),\n",
    "                                 'Augmented \\n Voronoi (GUF)' : sim_prediction_point[sim_prediction_point['model'] == 'augvoronoi_nocount'].groupby('run')['bias'].mean(),\n",
    "                                 'Simple HATA \\n (BSA, GUF)' : sim_prediction_point[sim_prediction_point['model'] == 'overlap_best_nocount'].groupby('run')['bias'].mean(),\n",
    "                                 'Simple HATA \\n (IDW, GUF)' : sim_prediction_point[sim_prediction_point['model'] == 'overlap_knn_nocount'].groupby('run')['bias'].mean(),\n",
    "                                 'Augmented \\n Voronoi (WPG)' : sim_prediction_point[sim_prediction_point['model'] == 'wpgvoronoi_nocount'].groupby('MAP_ID')['bias'].mean(),\n",
    "                                 'Simple HATA \\n (BSA, WPG)' : sim_prediction_point[sim_prediction_point['model'] == 'wpg_overlap_best_nocount'].groupby('MAP_ID')['bias'].mean(),\n",
    "                                 'Simple HATA \\n (IDW, WPG)' : sim_prediction_point[sim_prediction_point['model'] == 'wpg_overlap_knn_nocount'].groupby('MAP_ID')['bias'].mean()\n",
    "                                }),\n",
    "            palette = 'rocket')\n",
    "\n",
    "#ax.set(ylim=(0, 1))\n",
    "ax.tick_params(labelsize=14)\n",
    "\n",
    "plt.savefig('./Replication/data/Outputs/application_boxplot_bias_out_worknoold.png', transparent=False, pad_inches=0)\n",
    "\n",
    "plt.show()"
   ]
  },
  {
   "cell_type": "markdown",
   "metadata": {},
   "source": [
    "RMSE"
   ]
  },
  {
   "cell_type": "code",
   "execution_count": null,
   "metadata": {},
   "outputs": [],
   "source": [
    "f, ax = plt.subplots(1, figsize=(15, 5))\n",
    "sns.boxplot(data = pd.DataFrame({'Point-to-Polygon' : np.sqrt(sim_prediction_point[sim_prediction_point['model'] == 'point_nocount'].groupby('run')['rmse'].mean()),\n",
    "                                 'Voronoi' : np.sqrt(sim_prediction_point[sim_prediction_point['model'] == 'voronoi_nocount'].groupby('run')['rmse'].mean()),\n",
    "                                 'Augmented \\n Voronoi (GUF)' : np.sqrt(sim_prediction_point[sim_prediction_point['model'] == 'augvoronoi_nocount'].groupby('run')['rmse'].mean()),\n",
    "                                 'Simple HATA \\n (BSA, GUF)' : np.sqrt(sim_prediction_point[sim_prediction_point['model'] == 'overlap_best_nocount'].groupby('run')['rmse'].mean()),\n",
    "                                 'Simple HATA \\n (IDW, GUF)' : np.sqrt(sim_prediction_point[sim_prediction_point['model'] == 'overlap_knn_nocount'].groupby('run')['rmse'].mean()),\n",
    "                                 'Augmented \\n Voronoi (WPG)' : np.sqrt(sim_prediction_point[sim_prediction_point['model'] == 'wpgvoronoi_nocount'].groupby('MAP_ID')['rmse'].mean()),\n",
    "                                 'Simple HATA \\n (BSA, WPG)' : np.sqrt(sim_prediction_point[sim_prediction_point['model'] == 'wpg_overlap_best_nocount'].groupby('MAP_ID')['rmse'].mean()),\n",
    "                                 'Simple HATA \\n (IDW, WPG)' : np.sqrt(sim_prediction_point[sim_prediction_point['model'] == 'wpg_overlap_knn_nocount'].groupby('MAP_ID')['rmse'].mean())\n",
    "                                }),\n",
    "            palette = 'rocket')\n",
    "\n",
    "#ax.set(ylim=(0, 1))\n",
    "ax.tick_params(labelsize=14)\n",
    "\n",
    "plt.savefig('./Replication/data/Outputs/application_boxplot_rmse_out_worknoold.png', transparent=False, pad_inches=0)\n",
    "\n",
    "plt.show()"
   ]
  },
  {
   "cell_type": "markdown",
   "metadata": {},
   "source": [
    "### Map"
   ]
  },
  {
   "cell_type": "code",
   "execution_count": null,
   "metadata": {},
   "outputs": [],
   "source": [
    "map_commune = map_commune.merge(sim_prediction_point_raw.groupby('MAP_ID')['true'].mean().reset_index(), on = 'MAP_ID', how = 'left')"
   ]
  },
  {
   "cell_type": "code",
   "execution_count": null,
   "metadata": {},
   "outputs": [],
   "source": [
    "for i in sim_prediction_point_raw['model'].unique():\n",
    "    \n",
    "    df = sim_prediction_point_raw.loc[sim_prediction_point_raw['model'] == i].groupby('MAP_ID')['bias'].mean().rename(str('bias_'+i)).reset_index()\n",
    "    \n",
    "    map_commune = map_commune.merge(df, on = 'MAP_ID', how = 'left')"
   ]
  },
  {
   "cell_type": "code",
   "execution_count": null,
   "metadata": {},
   "outputs": [],
   "source": [
    "map_commune.describe()"
   ]
  },
  {
   "cell_type": "code",
   "execution_count": null,
   "metadata": {},
   "outputs": [],
   "source": [
    "vmin = -0.4\n",
    "vmax = 0.4"
   ]
  },
  {
   "cell_type": "code",
   "execution_count": null,
   "metadata": {},
   "outputs": [],
   "source": [
    "f, ((ax2, ax3), (ax4, ax5)) = plt.subplots(2, 2, figsize=(10, 5))\n",
    "\n",
    "# map_commune[['geometry', 'true']].dropna().plot(ax = ax1, column = 'true', cmap = plt.get_cmap(\"rocket\"), vmin = vmin, vmax = vmax, linewidth = 0.8, edgecolor = 'black')\n",
    "# ax1.set_title('True Unemployment Rate')\n",
    "# map_commune[['geometry', 'smpl']].dropna().plot(ax = ax1, column = 'smpl', cmap = plt.get_cmap(\"rocket\"), vmin = vmin, vmax = vmax, linewidth = 0.8, edgecolor = 'black')\n",
    "# ax1.set_title('Direct')\n",
    "map_commune[['geometry', 'bias_point_nocount']].dropna().plot(ax = ax2, column = 'bias_point_nocount', cmap = plt.get_cmap(\"rocket\"), vmin = vmin, vmax = vmax, linewidth = 0.8, edgecolor = 'black')\n",
    "ax2.set_title('Point-to-Polygon')\n",
    "map_commune[['geometry', 'bias_voronoi_nocount']].dropna().plot(ax = ax3, column = 'bias_voronoi_nocount', cmap = plt.get_cmap(\"rocket\"), vmin = vmin, vmax = vmax, linewidth = 0.8, edgecolor = 'black')\n",
    "ax3.set_title('Voronoi')\n",
    "map_commune[['geometry', 'bias_augvoronoi_nocount']].dropna().plot(ax = ax4, column = 'bias_augvoronoi_nocount', cmap = plt.get_cmap(\"rocket\"), vmin = vmin, vmax = vmax, linewidth = 0.8, edgecolor = 'black')\n",
    "ax4.set_title('Augmented Voronoi')\n",
    "map_commune[['geometry', 'bias_overlap_best_nocount']].dropna().plot(ax = ax5, column = 'bias_overlap_best_nocount', cmap = plt.get_cmap(\"rocket\"), vmin = vmin, vmax = vmax, linewidth = 0.8, edgecolor = 'black')\n",
    "ax5.set_title('HATA (BSA)')\n",
    "\n",
    "for ax in f.get_axes():\n",
    "    ax.label_outer()\n",
    "\n",
    "    \n",
    "f.subplots_adjust(right=0.8)\n",
    "im = plt.cm.ScalarMappable(cmap = plt.get_cmap(\"rocket\"), norm = plt.Normalize(vmin = vmin, vmax = vmax))\n",
    "im._A = []\n",
    "#cbar = fig.colorbar(sm)\n",
    "cbar_ax = f.add_axes([0.85, 0.15, 0.05, 0.7])\n",
    "f.colorbar(im, cax=cbar_ax)\n",
    "\n",
    "plt.savefig('./Replication/data/Outputs/unemployment_rate_by_com.png', transparent=False, pad_inches=0)\n",
    "\n",
    "plt.show()"
   ]
  },
  {
   "cell_type": "markdown",
   "metadata": {},
   "source": [
    "# Coverage maps"
   ]
  },
  {
   "cell_type": "markdown",
   "metadata": {},
   "source": [
    "### Settlements"
   ]
  },
  {
   "cell_type": "code",
   "execution_count": null,
   "metadata": {},
   "outputs": [],
   "source": [
    "map_pixel = gpd.read_file('./data/map_pixel_wpg.shp')"
   ]
  },
  {
   "cell_type": "code",
   "execution_count": null,
   "metadata": {},
   "outputs": [],
   "source": [
    "map_pixel_adm = gpd.tools.sjoin(map_pixel, map_commune[['MAP_ID', 'geometry']], how=\"left\", op='intersects').drop(columns=['index_right'])"
   ]
  },
  {
   "cell_type": "code",
   "execution_count": null,
   "metadata": {},
   "outputs": [],
   "source": [
    "map_pixel_adm.drop_duplicates(subset = 'pixel_id', keep = False, inplace = True)"
   ]
  },
  {
   "cell_type": "code",
   "execution_count": null,
   "metadata": {},
   "outputs": [],
   "source": [
    "map_pixel_adm = map_pixel_adm.dropna()"
   ]
  },
  {
   "cell_type": "code",
   "execution_count": null,
   "metadata": {},
   "outputs": [],
   "source": [
    "map_pixel_adm.head(3)"
   ]
  },
  {
   "cell_type": "code",
   "execution_count": null,
   "metadata": {},
   "outputs": [],
   "source": [
    "f, ax = plt.subplots(1, figsize=(10, 10))\n",
    "map_commune.plot(ax=ax, color = '#701f57', edgecolor='#701f57', linewidth = 2)\n",
    "plt.scatter(map_pixel_adm.geometry.x, map_pixel_adm.geometry.y, marker='.', s=0.1, color='white', alpha=1)\n",
    "plt.axis('off')\n",
    "\n",
    "plt.savefig('./Replication/data/Outputs/application_settlements_wpg.png', transparent=True, pad_inches=0)\n",
    "\n",
    "plt.show()"
   ]
  },
  {
   "cell_type": "markdown",
   "metadata": {},
   "source": [
    "### Direct survey estimate"
   ]
  },
  {
   "cell_type": "code",
   "execution_count": null,
   "metadata": {},
   "outputs": [],
   "source": [
    "map_direct = map_commune[map_commune.MAP_ID.isin(sim_prediction_point_raw.loc[sim_prediction_point_raw['type'] == 'in', 'MAP_ID'].unique())]"
   ]
  },
  {
   "cell_type": "code",
   "execution_count": null,
   "metadata": {},
   "outputs": [],
   "source": [
    "f, ax = plt.subplots(1, figsize=(10, 10))\n",
    "map_direct.plot(ax=ax, facecolor = '#701f57', edgecolor='white', alpha=1)\n",
    "plt.axis('off')\n",
    "\n",
    "plt.savefig('./Replication/data/Outputs/application_direct_worknoold.png', transparent=True, pad_inches=0)\n",
    "\n",
    "plt.show()"
   ]
  },
  {
   "cell_type": "markdown",
   "metadata": {},
   "source": [
    "### Point-to-Polygon"
   ]
  },
  {
   "cell_type": "code",
   "execution_count": null,
   "metadata": {},
   "outputs": [],
   "source": [
    "ant_details = gpd.read_file('./data/ant_details.shp')"
   ]
  },
  {
   "cell_type": "code",
   "execution_count": null,
   "metadata": {},
   "outputs": [],
   "source": [
    "len(ant_details.MAP_ID.unique())"
   ]
  },
  {
   "cell_type": "code",
   "execution_count": null,
   "metadata": {},
   "outputs": [],
   "source": [
    "map_p2p = map_commune[map_commune.MAP_ID.isin(ant_details.MAP_ID.unique())]"
   ]
  },
  {
   "cell_type": "code",
   "execution_count": null,
   "metadata": {},
   "outputs": [],
   "source": [
    "f, ax = plt.subplots(1, figsize=(10, 10))\n",
    "map_p2p.plot(ax=ax, facecolor = '#701f57', edgecolor='white', alpha=1)\n",
    "plt.axis('off')\n",
    "\n",
    "plt.savefig('./Replication/data/Outputs/application_p2p_worknoold.png', transparent=True, pad_inches=0)\n",
    "\n",
    "plt.show()"
   ]
  },
  {
   "cell_type": "markdown",
   "metadata": {},
   "source": [
    "### Voronoi"
   ]
  },
  {
   "cell_type": "code",
   "execution_count": null,
   "metadata": {},
   "outputs": [],
   "source": [
    "map_voronoi = gpd.read_file('./data/map_voronoi_points.shp')"
   ]
  },
  {
   "cell_type": "code",
   "execution_count": null,
   "metadata": {},
   "outputs": [],
   "source": [
    "f, ax = plt.subplots(1, figsize=(10, 10))\n",
    "map_voronoi.plot(ax=ax, facecolor = '#701f57', edgecolor='white', alpha=1)\n",
    "plt.axis('off')\n",
    "\n",
    "plt.savefig('./Replication/data/Outputs/application_voronoi.png', transparent=True, pad_inches=0)\n",
    "\n",
    "plt.show()"
   ]
  },
  {
   "cell_type": "markdown",
   "metadata": {},
   "source": [
    "### HATA"
   ]
  },
  {
   "cell_type": "code",
   "execution_count": null,
   "metadata": {},
   "outputs": [],
   "source": [
    "ant_details = gpd.read_file('./data/ant_details.shp')"
   ]
  },
  {
   "cell_type": "code",
   "execution_count": null,
   "metadata": {},
   "outputs": [],
   "source": [
    "%%capture\n",
    "%run ./propagation_model_extended_hata.ipynb"
   ]
  },
  {
   "cell_type": "code",
   "execution_count": null,
   "metadata": {},
   "outputs": [],
   "source": [
    "ant_details.head(3)"
   ]
  },
  {
   "cell_type": "code",
   "execution_count": null,
   "metadata": {},
   "outputs": [],
   "source": [
    "for i in tqdm(ant_details.index):\n",
    "    for j in np.arange(0, 100, 0.01):\n",
    "        alpha = alpha_value(ant_details.loc[i, 'frequency'], j, ant_details.loc[i, 'antenna_he'])\n",
    "        path_loss = calculate_path_loss_hata(ant_details.loc[i, 'frequency'], ant_details.loc[i, 'settlement'], j, ant_details.loc[i, 'antenna_he'], 1, alpha)\n",
    "\n",
    "        if (45 - path_loss) < -110:\n",
    "            ant_details.loc[i, 'distance'] = j * 10**3\n",
    "            break"
   ]
  },
  {
   "cell_type": "code",
   "execution_count": null,
   "metadata": {},
   "outputs": [],
   "source": [
    "ant_details = ant_details[ant_details['distance'] != 0]"
   ]
  },
  {
   "cell_type": "code",
   "execution_count": null,
   "metadata": {},
   "outputs": [],
   "source": [
    "ant_details_utm = ant_details.to_crs({'init': 'epsg:31028'})"
   ]
  },
  {
   "cell_type": "code",
   "execution_count": null,
   "metadata": {},
   "outputs": [],
   "source": [
    "ant_details_utm['geometry'] = ant_details_utm.apply(lambda x : x.geometry.buffer(x.distance), axis = 1)"
   ]
  },
  {
   "cell_type": "code",
   "execution_count": null,
   "metadata": {},
   "outputs": [],
   "source": [
    "ant_details_utm['bts_km2'] = ant_details_utm.area / 10**6"
   ]
  },
  {
   "cell_type": "code",
   "execution_count": null,
   "metadata": {},
   "outputs": [],
   "source": [
    "map_ant_details = ant_details_utm.to_crs({'init': 'epsg:4326'})"
   ]
  },
  {
   "cell_type": "markdown",
   "metadata": {},
   "source": [
    "HATA"
   ]
  },
  {
   "cell_type": "code",
   "execution_count": null,
   "metadata": {},
   "outputs": [],
   "source": [
    "f, ax = plt.subplots(1, figsize=(10, 10))\n",
    "map_ant_details.plot(ax=ax, color = '#701f57', alpha=0.4, edgecolor='white')\n",
    "plt.axis('off')\n",
    "\n",
    "plt.savefig('./Replication/data/Outputs/application_hata.png', transparent=True, pad_inches=0)\n",
    "\n",
    "plt.show()"
   ]
  },
  {
   "cell_type": "markdown",
   "metadata": {},
   "source": [
    "2G"
   ]
  },
  {
   "cell_type": "code",
   "execution_count": null,
   "metadata": {},
   "outputs": [],
   "source": [
    "f, ax = plt.subplots(1, figsize=(10, 10))\n",
    "map_ant_details[map_ant_details.frequency == 900].plot(ax=ax, color = '#701f57', alpha=0.4)\n",
    "map_commune.plot(ax=ax, facecolor = 'None', edgecolor='white', alpha=0.7)\n",
    "plt.axis('off')\n",
    "\n",
    "plt.savefig('./Replication/data/Outputs/application_hata_2g.png', transparent=True, pad_inches=0)\n",
    "\n",
    "plt.show()"
   ]
  },
  {
   "cell_type": "markdown",
   "metadata": {},
   "source": [
    "3G"
   ]
  },
  {
   "cell_type": "code",
   "execution_count": null,
   "metadata": {},
   "outputs": [],
   "source": [
    "f, ax = plt.subplots(1, figsize=(10, 10))\n",
    "map_ant_details[map_ant_details.frequency == 2100].plot(ax=ax, color = '#701f57', alpha=0.4)\n",
    "map_commune.plot(ax=ax, facecolor = 'None', edgecolor='white', alpha=0.7)\n",
    "plt.axis('off')\n",
    "\n",
    "plt.savefig('./Replication/data/Outputs/application_hata_3g.png', transparent=True, pad_inches=0)\n",
    "\n",
    "plt.show()"
   ]
  },
  {
   "cell_type": "markdown",
   "metadata": {},
   "source": [
    "### General performance measures"
   ]
  },
  {
   "cell_type": "code",
   "execution_count": null,
   "metadata": {},
   "outputs": [],
   "source": [
    "# results_final = pd.DataFrame()\n",
    "\n",
    "# for m in tqdm(sim_prediction_point_raw['model'].unique()):\n",
    "    \n",
    "#     results = pd.DataFrame()\n",
    "    \n",
    "#     temp = sim_prediction_point_raw.loc[(sim_prediction_point_raw['model'] == m), ['true', 'pred', 'type','run']].dropna().copy()\n",
    "    \n",
    "#     for j in temp['type'].unique():\n",
    "        \n",
    "#         result = pd.DataFrame()\n",
    "        \n",
    "#         temp2 = temp.loc[(temp['type'] == j)].dropna().copy()\n",
    "        \n",
    "#         for i in temp2['run'].unique():\n",
    "            \n",
    "#             temp3 = temp2.loc[(temp['run'] == i)].dropna().copy()\n",
    "\n",
    "#             result.loc[i, 'model'] = m\n",
    "#             result.loc[i, 'type'] = j\n",
    "#             result.loc[i, 'run'] = i\n",
    "#             result.loc[i, 'bias'] = (temp3['pred'] - temp3['true']).mean()\n",
    "#             result.loc[i, 'rmse'] = np.sqrt(((temp3['pred'] - temp3['true'])**2).mean())\n",
    "\n",
    "#             temp4 = temp3[['true', 'pred']]\n",
    "#             x = np.array(temp4['pred']).reshape((-1, 1))\n",
    "#             y = np.array(temp4['true'])\n",
    "\n",
    "#             result.loc[i, 'r2'] = LinearRegression().fit(x, y).score(x, y)\n",
    "            \n",
    "#         results = results.append(result)\n",
    "        \n",
    "#     results_final = results_final.append(results)"
   ]
  },
  {
   "cell_type": "markdown",
   "metadata": {},
   "source": [
    "### Population variation"
   ]
  },
  {
   "cell_type": "code",
   "execution_count": null,
   "metadata": {},
   "outputs": [],
   "source": [
    "map_pixel_adm = pd.read_csv('./data/dem_proj_grid_old.csv')"
   ]
  },
  {
   "cell_type": "code",
   "execution_count": null,
   "metadata": {},
   "outputs": [],
   "source": [
    "pop_var = map_pixel_adm.groupby('MAP_ID')['pop_per_grid'].var()"
   ]
  },
  {
   "cell_type": "code",
   "execution_count": null,
   "metadata": {},
   "outputs": [],
   "source": [
    "pop_var.describe()"
   ]
  },
  {
   "cell_type": "code",
   "execution_count": null,
   "metadata": {},
   "outputs": [],
   "source": [
    "len(pop_var[pop_var > 100])"
   ]
  },
  {
   "cell_type": "code",
   "execution_count": null,
   "metadata": {},
   "outputs": [],
   "source": [
    "pop_var_censored = pop_var[pop_var < 10]"
   ]
  },
  {
   "cell_type": "code",
   "execution_count": null,
   "metadata": {},
   "outputs": [],
   "source": [
    "f, ax = plt.subplots(1, figsize=(5, 20))\n",
    "sns.boxplot(data = pd.DataFrame({'Point-to-Polygon' : pop_var_censored\n",
    "                                }),\n",
    "            palette = 'rocket')\n",
    "\n",
    "ax.tick_params(labelsize=14)\n",
    "\n",
    "plt.savefig('./Replication/data/Outputs/application_boxplot_ar2_in.png', transparent=False, pad_inches=0)\n",
    "\n",
    "plt.show()"
   ]
  }
 ],
 "metadata": {
  "kernelspec": {
   "display_name": "Python 3",
   "language": "python",
   "name": "python3"
  },
  "language_info": {
   "codemirror_mode": {
    "name": "ipython",
    "version": 3
   },
   "file_extension": ".py",
   "mimetype": "text/x-python",
   "name": "python",
   "nbconvert_exporter": "python",
   "pygments_lexer": "ipython3",
   "version": "3.7.3"
  }
 },
 "nbformat": 4,
 "nbformat_minor": 2
}
