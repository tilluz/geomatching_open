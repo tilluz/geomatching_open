{
 "cells": [
  {
   "cell_type": "markdown",
   "metadata": {},
   "source": [
    "# Extended HATA model"
   ]
  },
  {
   "cell_type": "code",
   "execution_count": null,
   "metadata": {},
   "outputs": [],
   "source": [
    "def path_loss_variation(distance):\n",
    "    \n",
    "    mu = 12\n",
    "    \n",
    "    if distance <= 0.04:\n",
    "        \n",
    "        sigma = 3.5\n",
    "        \n",
    "    elif 0.04 < distance <= 0.1:\n",
    "        \n",
    "        sigma = 3.5 + ((12 - 3.5)/(0.1 - 0.04)) * (distance - 0.04)\n",
    "        \n",
    "    elif 0.1 < distance <= 0.2:\n",
    "        \n",
    "        sigma = 12\n",
    "        \n",
    "    elif 0.2 < distance <= 0.6:\n",
    "        \n",
    "        sigma = 12 + ((9 - 12)/(0.6 - 0.2)) * (distance - 0.2)\n",
    "        \n",
    "    else:\n",
    "        \n",
    "        sigma = 12\n",
    "\n",
    "    normal_std = np.sqrt(math.log10(1 + (sigma/mu)**2))\n",
    "    normal_mean = math.log10(mu) - normal_std**2 / 2\n",
    "\n",
    "    path_loss_variation = np.random.lognormal(normal_mean, normal_std, 1)[0]\n",
    "\n",
    "    return(path_loss_variation)"
   ]
  },
  {
   "cell_type": "code",
   "execution_count": null,
   "metadata": {},
   "outputs": [],
   "source": [
    "def alpha_value(frequency, distance, bts_height):\n",
    "    \n",
    "    if distance < 20:\n",
    "    \n",
    "        alpha = 1\n",
    "    \n",
    "    else:\n",
    "    \n",
    "        alpha = 1 + (0.14 + 1.87*10**(-4)*frequency + 1.07*10**(-3)*bts_height)*(math.log10(distance/20))**0.8\n",
    "        \n",
    "    return(alpha)"
   ]
  },
  {
   "cell_type": "code",
   "execution_count": null,
   "metadata": {},
   "outputs": [],
   "source": [
    "def path_loss_short(frequency, distance, bts_height, ms_height):\n",
    "    \n",
    "    path_loss = 32.4 + 20*math.log10(frequency) + 10*math.log10(distance**2 + (bts_height - ms_height)**2/10**6)\n",
    "    \n",
    "    return(path_loss)"
   ]
  },
  {
   "cell_type": "code",
   "execution_count": null,
   "metadata": {},
   "outputs": [],
   "source": [
    "def path_loss_long(frequency, settlement_type, distance, bts_height, ms_height, alpha):\n",
    "    \n",
    "    if frequency == 900:\n",
    "        \n",
    "        path_loss_long = 69.6 \\\n",
    "                            + 26.2 * math.log10(frequency) \\\n",
    "                            - 13.82 * math.log10(max(30, bts_height)) \\\n",
    "                            + (44.9 - 6.55 * math.log10(max(30, bts_height))) * (math.log10(distance))**alpha \\\n",
    "                            - ((1.1 * math.log10(frequency) - 0.7) * min(10,ms_height) - (1.56 * math.log10(frequency) - 0.8) + max(0, 20 * math.log10(ms_height / 10))) \\\n",
    "                            - (min(0, 20 * math.log10(bts_height / 30)))\n",
    "            \n",
    "    else:\n",
    "            \n",
    "        path_loss_long = 46.3 \\\n",
    "                            + 33.9 * math.log10(2000) + 10*math.log10(frequency / 2000)\\\n",
    "                            - 13.82 * math.log10(max(30, bts_height)) \\\n",
    "                            + (44.9 - 6.55 * math.log10(max(30, bts_height))) * (math.log10(distance))**alpha \\\n",
    "                            - ((1.1 * math.log10(frequency) - 0.7) * min(10, ms_height) - (1.56 * math.log10(frequency) - 0.8) + max(0, 20 * math.log10(ms_height / 10))) \\\n",
    "                            - (min(0, 20 * math.log10(bts_height / 30)))\n",
    "        \n",
    "    if (settlement_type == 'suburban') | (settlement_type == 2):\n",
    "        \n",
    "        path_loss = path_loss_long \\\n",
    "                            - 2 * (math.log10((min(max(150, frequency), 2000)) / 28))**2 \\\n",
    "                            - 5.4\n",
    "    \n",
    "    elif (settlement_type == 'rural') | (settlement_type == 1):\n",
    "        \n",
    "        path_loss = path_loss_long \\\n",
    "                            - 4.78 * (math.log10(min(max(150, frequency), 2000)))**2 \\\n",
    "                            + 18.33 * math.log10(min(max(150, frequency), 2000)) \\\n",
    "                            - 40.94\n",
    "        \n",
    "    else:\n",
    "        \n",
    "        path_loss = path_loss_long\n",
    "        \n",
    "    return(path_loss)"
   ]
  },
  {
   "cell_type": "code",
   "execution_count": null,
   "metadata": {},
   "outputs": [],
   "source": [
    "def path_loss_mid(frequency, settlement_type, distance, bts_height, ms_height, alpha):\n",
    "    \n",
    "    path_loss = path_loss_short(frequency = frequency, distance = 0.04, bts_height = bts_height, ms_height = ms_height) \\\n",
    "                + ((math.log10(distance) - math.log10(0.04))/(math.log10(0.1) - math.log10(0.04))) \\\n",
    "                * (path_loss_long(frequency = frequency, settlement_type = settlement_type,distance = 0.1, bts_height = bts_height, ms_height = ms_height, alpha = alpha) \\\n",
    "                               - path_loss_short(frequency = frequency, distance = 0.04, bts_height = bts_height, ms_height = ms_height))\n",
    "    \n",
    "    return(path_loss)"
   ]
  },
  {
   "cell_type": "code",
   "execution_count": null,
   "metadata": {},
   "outputs": [],
   "source": [
    "def calculate_path_loss_hata(frequency, settlement_type, distance, bts_height, ms_height, alpha):\n",
    "\n",
    "    if distance < 0.04:\n",
    "\n",
    "        path_loss = path_loss_short(frequency, distance, bts_height, ms_height)\n",
    "\n",
    "    elif 0.04 <= distance < 0.1:\n",
    "        \n",
    "        path_loss = path_loss_mid(frequency, settlement_type, distance, bts_height, ms_height, alpha)\n",
    "        \n",
    "    else:\n",
    "        \n",
    "        path_loss = path_loss_long(frequency, settlement_type, distance, bts_height, ms_height, alpha)\n",
    "    \n",
    "    return(path_loss + path_loss_variation(distance))"
   ]
  },
  {
   "cell_type": "code",
   "execution_count": null,
   "metadata": {},
   "outputs": [],
   "source": [
    "def calculate_path_loss_hata_novar(frequency, settlement_type, distance, bts_height, ms_height, alpha):\n",
    "\n",
    "    if distance < 0.04:\n",
    "\n",
    "        path_loss = path_loss_short(frequency, distance, bts_height, ms_height)\n",
    "\n",
    "    elif 0.04 <= distance < 0.1:\n",
    "        \n",
    "        path_loss = path_loss_mid(frequency, settlement_type, distance, bts_height, ms_height, alpha)\n",
    "        \n",
    "    else:\n",
    "        \n",
    "        path_loss = path_loss_long(frequency, settlement_type, distance, bts_height, ms_height, alpha)\n",
    "    \n",
    "    return(path_loss + 2.94)"
   ]
  }
 ],
 "metadata": {
  "kernelspec": {
   "display_name": "Python 3",
   "language": "python",
   "name": "python3"
  },
  "language_info": {
   "codemirror_mode": {
    "name": "ipython",
    "version": 3
   },
   "file_extension": ".py",
   "mimetype": "text/x-python",
   "name": "python",
   "nbconvert_exporter": "python",
   "pygments_lexer": "ipython3",
   "version": "3.7.3"
  }
 },
 "nbformat": 4,
 "nbformat_minor": 2
}
